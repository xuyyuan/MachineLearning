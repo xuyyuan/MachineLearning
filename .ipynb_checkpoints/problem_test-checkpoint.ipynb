{
 "cells": [
  {
   "cell_type": "code",
   "execution_count": 2,
   "metadata": {},
   "outputs": [
    {
     "data": {
      "text/plain": [
       "array([[ 0,  1,  2,  3],\n",
       "       [ 4,  5,  6,  7],\n",
       "       [ 8,  9, 10, 11],\n",
       "       [12, 13, 14, 15]])"
      ]
     },
     "execution_count": 2,
     "metadata": {},
     "output_type": "execute_result"
    }
   ],
   "source": [
    "import numpy as np\n",
    "X = np.arange(16).reshape(4, -1)\n",
    "X"
   ]
  },
  {
   "cell_type": "code",
   "execution_count": 3,
   "metadata": {},
   "outputs": [
    {
     "data": {
      "text/plain": [
       "array([ 3,  7, 11, 15])"
      ]
     },
     "execution_count": 3,
     "metadata": {},
     "output_type": "execute_result"
    }
   ],
   "source": [
    "X[:, 3]"
   ]
  },
  {
   "cell_type": "code",
   "execution_count": 5,
   "metadata": {},
   "outputs": [],
   "source": [
    "# np.sum(X%2==0, axis=0)  沿着行\n",
    "# np.sum(X%2==0, axis=1)   沿着列\n",
    "\n",
    "# np.sort(X, axis=0)  沿着行\n",
    "# np.sort(X, axis=1)  沿着列\n",
    "# np.concatenate([A, A], axis=1) 沿着列\n",
    "\n",
    "# A1, A2 = np.split(A, [2], axis=1)  按列来分割"
   ]
  },
  {
   "cell_type": "code",
   "execution_count": 1,
   "metadata": {},
   "outputs": [],
   "source": [
    "from sklearn.linear_model import LinearRegression\n",
    "from playML.LinearRegression import LinearRegression"
   ]
  },
  {
   "cell_type": "code",
   "execution_count": 2,
   "metadata": {},
   "outputs": [],
   "source": [
    "from sklearn.neighbors import KNeighborsRegressor\n",
    "from sklearn.neighbors import KNeighborsClassifier"
   ]
  },
  {
   "cell_type": "code",
   "execution_count": 4,
   "metadata": {},
   "outputs": [
    {
     "data": {
      "text/plain": [
       "array([[1, 2, 3],\n",
       "       [4, 5, 6]])"
      ]
     },
     "execution_count": 4,
     "metadata": {},
     "output_type": "execute_result"
    }
   ],
   "source": [
    "import numpy as np\n",
    "X = np.array([[1, 2, 3], [4, 5, 6]])\n",
    "X"
   ]
  },
  {
   "cell_type": "code",
   "execution_count": 7,
   "metadata": {},
   "outputs": [
    {
     "data": {
      "text/plain": [
       "2"
      ]
     },
     "execution_count": 7,
     "metadata": {},
     "output_type": "execute_result"
    }
   ],
   "source": [
    "len(X)"
   ]
  },
  {
   "cell_type": "code",
   "execution_count": 5,
   "metadata": {},
   "outputs": [],
   "source": [
    "def J(theta):\n",
    "    return (theta - 2.5) ** 2 - 1"
   ]
  },
  {
   "cell_type": "code",
   "execution_count": 6,
   "metadata": {},
   "outputs": [],
   "source": [
    "def dJ(theta):\n",
    "    return 2 * (theta - 2.5)"
   ]
  },
  {
   "cell_type": "code",
   "execution_count": 8,
   "metadata": {},
   "outputs": [],
   "source": [
    "def gradient_descent(initial_theta, eta, epsilon=1e-8):\n",
    "    theta = initial_theta\n",
    "    theta_history = [theta]\n",
    "    while True:\n",
    "        last_theta = theta\n",
    "        theta = theta - eta * dJ(theta)\n",
    "        theta_history.append(theta)\n",
    "        \n",
    "        if abs(J(theta) - J(last_theta)) < epsilon:\n",
    "            break\n",
    "gradient_descent(0., 0.1)"
   ]
  },
  {
   "cell_type": "code",
   "execution_count": 10,
   "metadata": {},
   "outputs": [
    {
     "ename": "NameError",
     "evalue": "name 'theta_history' is not defined",
     "output_type": "error",
     "traceback": [
      "\u001b[1;31m---------------------------------------------------------------------------\u001b[0m",
      "\u001b[1;31mNameError\u001b[0m                                 Traceback (most recent call last)",
      "\u001b[1;32m<ipython-input-10-afaea09132d2>\u001b[0m in \u001b[0;36m<module>\u001b[1;34m()\u001b[0m\n\u001b[1;32m----> 1\u001b[1;33m \u001b[0mprint\u001b[0m\u001b[1;33m(\u001b[0m\u001b[0mtheta_history\u001b[0m\u001b[1;33m)\u001b[0m\u001b[1;33m\u001b[0m\u001b[0m\n\u001b[0m",
      "\u001b[1;31mNameError\u001b[0m: name 'theta_history' is not defined"
     ]
    }
   ],
   "source": []
  },
  {
   "cell_type": "code",
   "execution_count": 10,
   "metadata": {},
   "outputs": [
    {
     "data": {
      "text/plain": [
       "array([0., 0., 0., 0., 0., 0., 0., 0., 0., 0.])"
      ]
     },
     "execution_count": 10,
     "metadata": {},
     "output_type": "execute_result"
    }
   ],
   "source": [
    "import numpy as np\n",
    "res = np.empty(10)\n",
    "res"
   ]
  },
  {
   "cell_type": "code",
   "execution_count": 2,
   "metadata": {},
   "outputs": [],
   "source": [
    "import numpy as np\n",
    "X = np.random.random(size=100)"
   ]
  },
  {
   "cell_type": "code",
   "execution_count": 3,
   "metadata": {},
   "outputs": [
    {
     "data": {
      "text/plain": [
       "(100,)"
      ]
     },
     "execution_count": 3,
     "metadata": {},
     "output_type": "execute_result"
    }
   ],
   "source": [
    "X.shape"
   ]
  },
  {
   "cell_type": "code",
   "execution_count": 4,
   "metadata": {},
   "outputs": [],
   "source": [
    "w = np.array([1, 2])"
   ]
  },
  {
   "cell_type": "code",
   "execution_count": 5,
   "metadata": {},
   "outputs": [
    {
     "data": {
      "text/plain": [
       "(2,)"
      ]
     },
     "execution_count": 5,
     "metadata": {},
     "output_type": "execute_result"
    }
   ],
   "source": [
    "w.shape"
   ]
  },
  {
   "cell_type": "code",
   "execution_count": 10,
   "metadata": {},
   "outputs": [
    {
     "ename": "ValueError",
     "evalue": "operands could not be broadcast together with shapes (100,) (2,) ",
     "output_type": "error",
     "traceback": [
      "\u001b[1;31m---------------------------------------------------------------------------\u001b[0m",
      "\u001b[1;31mValueError\u001b[0m                                Traceback (most recent call last)",
      "\u001b[1;32m<ipython-input-10-a90b9ab8c0d6>\u001b[0m in \u001b[0;36m<module>\u001b[1;34m()\u001b[0m\n\u001b[1;32m----> 1\u001b[1;33m \u001b[0mX\u001b[0m \u001b[1;33m*\u001b[0m \u001b[0mw\u001b[0m\u001b[1;33m\u001b[0m\u001b[0m\n\u001b[0m",
      "\u001b[1;31mValueError\u001b[0m: operands could not be broadcast together with shapes (100,) (2,) "
     ]
    }
   ],
   "source": [
    "X * w"
   ]
  },
  {
   "cell_type": "code",
   "execution_count": 11,
   "metadata": {},
   "outputs": [
    {
     "ename": "ValueError",
     "evalue": "shapes (100,) and (2,) not aligned: 100 (dim 0) != 2 (dim 0)",
     "output_type": "error",
     "traceback": [
      "\u001b[1;31m---------------------------------------------------------------------------\u001b[0m",
      "\u001b[1;31mValueError\u001b[0m                                Traceback (most recent call last)",
      "\u001b[1;32m<ipython-input-11-00b83723a45b>\u001b[0m in \u001b[0;36m<module>\u001b[1;34m()\u001b[0m\n\u001b[1;32m----> 1\u001b[1;33m \u001b[0mX\u001b[0m\u001b[1;33m.\u001b[0m\u001b[0mdot\u001b[0m\u001b[1;33m(\u001b[0m\u001b[0mw\u001b[0m\u001b[1;33m)\u001b[0m\u001b[1;33m\u001b[0m\u001b[0m\n\u001b[0m",
      "\u001b[1;31mValueError\u001b[0m: shapes (100,) and (2,) not aligned: 100 (dim 0) != 2 (dim 0)"
     ]
    }
   ],
   "source": [
    "X.dot(w)"
   ]
  },
  {
   "cell_type": "code",
   "execution_count": 20,
   "metadata": {},
   "outputs": [
    {
     "data": {
      "text/plain": [
       "array([[0.17971193, 0.35942385],\n",
       "       [0.31361957, 0.62723914],\n",
       "       [0.22531776, 0.45063552],\n",
       "       [0.37698186, 0.75396372],\n",
       "       [0.66764204, 1.33528408],\n",
       "       [0.25584791, 0.51169583],\n",
       "       [0.98210374, 1.96420748],\n",
       "       [0.66513209, 1.33026418],\n",
       "       [0.81373401, 1.62746802],\n",
       "       [0.01066054, 0.02132107],\n",
       "       [0.47039428, 0.94078856],\n",
       "       [0.14692302, 0.29384603],\n",
       "       [0.93131731, 1.86263462],\n",
       "       [0.81502537, 1.63005073],\n",
       "       [0.47284227, 0.94568454],\n",
       "       [0.95746096, 1.91492192],\n",
       "       [0.78632207, 1.57264414],\n",
       "       [0.53811621, 1.07623242],\n",
       "       [0.07228457, 0.14456914],\n",
       "       [0.80998732, 1.61997464],\n",
       "       [0.77296615, 1.5459323 ],\n",
       "       [0.81018711, 1.62037421],\n",
       "       [0.43862103, 0.87724205],\n",
       "       [0.47014973, 0.94029946],\n",
       "       [0.2956795 , 0.59135901],\n",
       "       [0.79758117, 1.59516233],\n",
       "       [0.77979279, 1.55958559],\n",
       "       [0.49017441, 0.98034882],\n",
       "       [0.34658182, 0.69316364],\n",
       "       [0.7911911 , 1.58238219],\n",
       "       [0.29922669, 0.59845339],\n",
       "       [0.22250387, 0.44500774],\n",
       "       [0.34247571, 0.68495142],\n",
       "       [0.00430625, 0.0086125 ],\n",
       "       [0.03836895, 0.07673789],\n",
       "       [0.71112844, 1.42225687],\n",
       "       [0.81103865, 1.6220773 ],\n",
       "       [0.36594099, 0.73188199],\n",
       "       [0.37769813, 0.75539627],\n",
       "       [0.93350399, 1.86700797],\n",
       "       [0.85540791, 1.71081581],\n",
       "       [0.93819918, 1.87639836],\n",
       "       [0.60824991, 1.21649981],\n",
       "       [0.85840262, 1.71680525],\n",
       "       [0.21266377, 0.42532754],\n",
       "       [0.1035212 , 0.20704239],\n",
       "       [0.1807474 , 0.36149479],\n",
       "       [0.79617573, 1.59235147],\n",
       "       [0.98872352, 1.97744703],\n",
       "       [0.98047297, 1.96094594],\n",
       "       [0.50472712, 1.00945424],\n",
       "       [0.45736321, 0.91472642],\n",
       "       [0.40131518, 0.80263035],\n",
       "       [0.55112185, 1.10224371],\n",
       "       [0.96841725, 1.93683449],\n",
       "       [0.86044535, 1.72089071],\n",
       "       [0.34910669, 0.69821338],\n",
       "       [0.26128423, 0.52256847],\n",
       "       [0.44096088, 0.88192176],\n",
       "       [0.49105159, 0.98210318],\n",
       "       [0.61257234, 1.22514469],\n",
       "       [0.73419413, 1.46838827],\n",
       "       [0.88933818, 1.77867635],\n",
       "       [0.44988992, 0.89977984],\n",
       "       [0.48698859, 0.97397717],\n",
       "       [0.82933191, 1.65866381],\n",
       "       [0.98312409, 1.96624818],\n",
       "       [0.7367206 , 1.47344121],\n",
       "       [0.5893601 , 1.17872019],\n",
       "       [0.98697825, 1.97395649],\n",
       "       [0.71346368, 1.42692735],\n",
       "       [0.95008023, 1.90016046],\n",
       "       [0.92632007, 1.85264014],\n",
       "       [0.24141172, 0.48282344],\n",
       "       [0.46942207, 0.93884415],\n",
       "       [0.72352743, 1.44705485],\n",
       "       [0.30986097, 0.61972194],\n",
       "       [0.57623939, 1.15247879],\n",
       "       [0.1904528 , 0.3809056 ],\n",
       "       [0.78465281, 1.56930562],\n",
       "       [0.25697239, 0.51394478],\n",
       "       [0.44282933, 0.88565865],\n",
       "       [0.15909421, 0.31818841],\n",
       "       [0.23090117, 0.46180233],\n",
       "       [0.93011098, 1.86022195],\n",
       "       [0.971067  , 1.942134  ],\n",
       "       [0.01538972, 0.03077943],\n",
       "       [0.85908671, 1.71817342],\n",
       "       [0.66676152, 1.33352304],\n",
       "       [0.31502041, 0.63004082],\n",
       "       [0.14699741, 0.29399482],\n",
       "       [0.67689186, 1.35378372],\n",
       "       [0.1325503 , 0.2651006 ],\n",
       "       [0.49100132, 0.98200264],\n",
       "       [0.83590333, 1.67180666],\n",
       "       [0.6700611 , 1.34012221],\n",
       "       [0.38085617, 0.76171235],\n",
       "       [0.97272819, 1.94545638],\n",
       "       [0.58054108, 1.16108215],\n",
       "       [0.41534413, 0.83068827]])"
      ]
     },
     "execution_count": 20,
     "metadata": {},
     "output_type": "execute_result"
    }
   ],
   "source": [
    "X.reshape(-1, 1) * w"
   ]
  },
  {
   "cell_type": "code",
   "execution_count": 23,
   "metadata": {},
   "outputs": [
    {
     "data": {
      "text/plain": [
       "array([1, 2])"
      ]
     },
     "execution_count": 23,
     "metadata": {},
     "output_type": "execute_result"
    }
   ],
   "source": [
    "X = np.array([1, 2])\n",
    "X"
   ]
  },
  {
   "cell_type": "code",
   "execution_count": 25,
   "metadata": {},
   "outputs": [
    {
     "data": {
      "text/plain": [
       "array([3, 4])"
      ]
     },
     "execution_count": 25,
     "metadata": {},
     "output_type": "execute_result"
    }
   ],
   "source": [
    "w = np.array([3, 4])\n",
    "w"
   ]
  },
  {
   "cell_type": "code",
   "execution_count": 26,
   "metadata": {},
   "outputs": [
    {
     "data": {
      "text/plain": [
       "array([[3, 4],\n",
       "       [6, 8]])"
      ]
     },
     "execution_count": 26,
     "metadata": {},
     "output_type": "execute_result"
    }
   ],
   "source": [
    "X.reshape(-1, 1) * w"
   ]
  },
  {
   "cell_type": "code",
   "execution_count": 27,
   "metadata": {},
   "outputs": [
    {
     "data": {
      "text/plain": [
       "array([[ 1,  2],\n",
       "       [10, 20]])"
      ]
     },
     "execution_count": 27,
     "metadata": {},
     "output_type": "execute_result"
    }
   ],
   "source": [
    "X = np.array([[1, 2], [10, 20]])\n",
    "X"
   ]
  },
  {
   "cell_type": "code",
   "execution_count": 29,
   "metadata": {},
   "outputs": [
    {
     "data": {
      "text/plain": [
       "array([[ 3,  4],\n",
       "       [ 6,  8],\n",
       "       [30, 40],\n",
       "       [60, 80]])"
      ]
     },
     "execution_count": 29,
     "metadata": {},
     "output_type": "execute_result"
    }
   ],
   "source": [
    "X.reshape(-1, 1) * w"
   ]
  },
  {
   "cell_type": "code",
   "execution_count": 30,
   "metadata": {},
   "outputs": [
    {
     "data": {
      "text/plain": [
       "array([1, 2, 3, 4, 5, 6])"
      ]
     },
     "execution_count": 30,
     "metadata": {},
     "output_type": "execute_result"
    }
   ],
   "source": [
    "X = np.array([1, 2, 3, 4, 5, 6])\n",
    "X"
   ]
  },
  {
   "cell_type": "code",
   "execution_count": 32,
   "metadata": {},
   "outputs": [
    {
     "data": {
      "text/plain": [
       "array([[ 3,  4],\n",
       "       [ 6,  8],\n",
       "       [ 9, 12],\n",
       "       [12, 16],\n",
       "       [15, 20],\n",
       "       [18, 24]])"
      ]
     },
     "execution_count": 32,
     "metadata": {},
     "output_type": "execute_result"
    }
   ],
   "source": [
    "X.reshape(-1, 1) * w"
   ]
  },
  {
   "cell_type": "markdown",
   "metadata": {},
   "source": [
    "### 从高维数据向低维数据的映射"
   ]
  },
  {
   "cell_type": "code",
   "execution_count": 1,
   "metadata": {},
   "outputs": [],
   "source": [
    "import numpy as np\n",
    "import matplotlib.pyplot as plt"
   ]
  },
  {
   "cell_type": "code",
   "execution_count": 3,
   "metadata": {},
   "outputs": [],
   "source": [
    "X = np.empty(shape=(100, 2))\n",
    "\n",
    "X[:, 0] = np.random.uniform(0, 100., size=100)\n",
    "X[:, 1] = X[:, 0] * 0.75 + 3. + np.random.normal(0, 10., size=100)"
   ]
  },
  {
   "cell_type": "code",
   "execution_count": 5,
   "metadata": {},
   "outputs": [
    {
     "data": {
      "text/plain": [
       "PCA(n_components=2)"
      ]
     },
     "execution_count": 5,
     "metadata": {},
     "output_type": "execute_result"
    }
   ],
   "source": [
    "from playML.PCA import PCA\n",
    "\n",
    "pca = PCA(n_components=2)\n",
    "pca.fit(X)"
   ]
  },
  {
   "cell_type": "code",
   "execution_count": 6,
   "metadata": {},
   "outputs": [
    {
     "data": {
      "text/plain": [
       "array([[ 0.7613161 ,  0.6483809 ],\n",
       "       [-0.64837743,  0.76131905]])"
      ]
     },
     "execution_count": 6,
     "metadata": {},
     "output_type": "execute_result"
    }
   ],
   "source": [
    "pca.components_"
   ]
  },
  {
   "cell_type": "code",
   "execution_count": 7,
   "metadata": {},
   "outputs": [
    {
     "data": {
      "text/plain": [
       "PCA(n_components=1)"
      ]
     },
     "execution_count": 7,
     "metadata": {},
     "output_type": "execute_result"
    }
   ],
   "source": [
    "pca = PCA(n_components=1)\n",
    "pca.fit(X)"
   ]
  },
  {
   "cell_type": "code",
   "execution_count": 8,
   "metadata": {},
   "outputs": [],
   "source": [
    "X_reduction = pca.transform(X)"
   ]
  },
  {
   "cell_type": "code",
   "execution_count": 9,
   "metadata": {},
   "outputs": [
    {
     "data": {
      "text/plain": [
       "(100, 1)"
      ]
     },
     "execution_count": 9,
     "metadata": {},
     "output_type": "execute_result"
    }
   ],
   "source": [
    "X_reduction.shape"
   ]
  },
  {
   "cell_type": "code",
   "execution_count": 10,
   "metadata": {},
   "outputs": [],
   "source": [
    "X_restore = pca.inverse_transform(X_reduction)"
   ]
  },
  {
   "cell_type": "code",
   "execution_count": 11,
   "metadata": {},
   "outputs": [
    {
     "data": {
      "text/plain": [
       "(100, 2)"
      ]
     },
     "execution_count": 11,
     "metadata": {},
     "output_type": "execute_result"
    }
   ],
   "source": [
    "X_restore.shape"
   ]
  },
  {
   "cell_type": "code",
   "execution_count": 17,
   "metadata": {},
   "outputs": [
    {
     "data": {
      "image/png": "[encoded data removed]",
      "text/plain": [
       "<Figure size 432x288 with 1 Axes>"
      ]
     },
     "metadata": {},
     "output_type": "display_data"
    }
   ],
   "source": [
    "plt.scatter(X[:, 0], X[:, 1], color='b', alpha=0.6)\n",
    "plt.scatter(X_restore[:, 0], X_restore[:, 1], color='r', alpha=0.5)\n",
    "plt.show()"
   ]
  },
  {
   "cell_type": "code",
   "execution_count": 18,
   "metadata": {},
   "outputs": [],
   "source": [
    "# 总结一下\n",
    "\n",
    "import numpy as np\n",
    "\n",
    "class PCA:\n",
    "    \"\"\"初始化PCA\"\"\"\n",
    "    def __init__(self, n_components):\n",
    "        assert n_components >= 1, 'n_components must be valid'\n",
    "        self.n_components = n_components\n",
    "        self.components_ = None\n",
    "\n",
    "    def fit(self, X, eta=0.01, n_iters=1e4):\n",
    "        \"\"\"获得数据集的前n个主成分\"\"\"\n",
    "        assert self.n_components <= X.shape[1], \\\n",
    "            'n_components must be greater than the feature num of X'\n",
    "\n",
    "        def demean(X):\n",
    "            return X - np.mean(X, axis=0)\n",
    "\n",
    "        def f(w, X):\n",
    "            return np.sum((X.dot(w) ** 2)) / len(X)\n",
    "\n",
    "        def df(w, X):\n",
    "            return X.T.dot(X.dot(w)) * 2. / len(X)\n",
    "\n",
    "        def direction(w):\n",
    "            return w / np.linalg.norm(w)\n",
    "\n",
    "        def first_component(X, initial_w, eta, n_iters=1e4, epsilon=1e-8):\n",
    "            w = direction(initial_w)\n",
    "            cur_iter = 0\n",
    "            while cur_iter < n_iters:\n",
    "                gradient = df(w, X)\n",
    "                last_w = w\n",
    "                w = w + eta * gradient\n",
    "                w = direction(w)  # 注意1：每次求一个单位向量\n",
    "                if abs(f(w, X) - f(last_w, X)) < epsilon:\n",
    "                    break\n",
    "                cur_iter += 1\n",
    "            return w\n",
    "\n",
    "        X_pca = demean(X)\n",
    "        self.components_ = np.empty(shape=(self.n_components, X.shape[1]))\n",
    "        for i in range(self.n_components):\n",
    "            initial_w = np.random.random(X_pca.shape[1])\n",
    "            w = first_component(X_pca, initial_w, eta, n_iters)\n",
    "            self.components_[i, :] = w\n",
    "            X_pca = X_pca - X_pca.dot(w).reshape(-1, 1) * w\n",
    "        return self\n",
    "\n",
    "    def transform(self, X):  # 这里的X是高维的\n",
    "        \"\"\"将给定的X， 映射到各个主成分分量中\"\"\"\n",
    "        assert X.shape[1] == self.components_.shape[1]\n",
    "\n",
    "        return X.dot(self.components_.T)\n",
    "\n",
    "    def inverse_transform(self, X): # 这里的X是低维的\n",
    "        \"\"\"将给定的X，反向映射回原来的特征空间\"\"\"\n",
    "        assert X.shape[1] == self.components_.shape[0]\n",
    "\n",
    "        return X.dot(self.components_)\n",
    "\n",
    "    def __repr__(self):\n",
    "        return 'PCA(n_components=%d)' % self.n_components"
   ]
  },
  {
   "cell_type": "code",
   "execution_count": 19,
   "metadata": {},
   "outputs": [],
   "source": [
    "# 搞清楚上面的PCA类，特别是上面的参数\n",
    "# 搞清楚上面的图，为什么执行inverse_transform()函数之后的X_restore 画出来是一条从左到右的一条直线"
   ]
  },
  {
   "cell_type": "code",
   "execution_count": null,
   "metadata": {},
   "outputs": [],
   "source": []
  }
 ],
 "metadata": {
  "kernelspec": {
   "display_name": "Python 3",
   "language": "python",
   "name": "python3"
  },
  "language_info": {
   "codemirror_mode": {
    "name": "ipython",
    "version": 3
   },
   "file_extension": ".py",
   "mimetype": "text/x-python",
   "name": "python",
   "nbconvert_exporter": "python",
   "pygments_lexer": "ipython3",
   "version": "3.6.4"
  }
 },
 "nbformat": 4,
 "nbformat_minor": 1
}
