{
 "cells": [
  {
   "cell_type": "markdown",
   "metadata": {},
   "source": [
    "### 栈"
   ]
  },
  {
   "cell_type": "code",
   "execution_count": 1,
   "metadata": {},
   "outputs": [
    {
     "name": "stdout",
     "output_type": "stream",
     "text": [
      "4\n",
      "3\n",
      "2\n",
      "1\n"
     ]
    }
   ],
   "source": [
    "class Stack:\n",
    "    \"\"\"栈\"\"\"\n",
    "    def __init__(self):\n",
    "        self.__list = []\n",
    "        # 这里采用顺序表（列表）的形式，用来保存数据\n",
    "    \n",
    "    def push(self, item):\n",
    "        \"\"\"添加一个新的元素到栈顶\"\"\"\n",
    "        self.__list.append(item)\n",
    "#         self.__list.insert(0, item) 这里不使用insert()和pop(0)的方式，因为对于顺序表来说从头部添加和删除的时间复杂度为O(n),从尾部是O(1)\n",
    "    \n",
    "    def pop(self):\n",
    "        \"\"\"弹出栈顶元素\"\"\"\n",
    "        return self.__list.pop()\n",
    "#         return self.__list.pop(0)\n",
    "    \n",
    "    def peek(self):\n",
    "        \"\"\"返回栈顶元素\"\"\"\n",
    "        if self.__list:\n",
    "            return self.__list[-1]\n",
    "        else:\n",
    "            None\n",
    "        # 返回列表的最后一个元素,要注意如果是空列表，那么是不支持-1这样的操作\n",
    "    \n",
    "    def is_empty(self):\n",
    "        \"\"\"判断栈顶是否为空\"\"\"\n",
    "        return self.__list == []\n",
    "#         return not self.__list\n",
    "    \n",
    "    def size(self):\n",
    "        \"\"\"返回栈的元素的个数\"\"\"\n",
    "        return len(self.__list)\n",
    "    \n",
    "if __name__ == \"__main__\":\n",
    "    s = Stack()\n",
    "    s.push(1)\n",
    "    s.push(2)\n",
    "    s.push(3)\n",
    "    s.push(4)\n",
    "    print(s.pop())\n",
    "    print(s.pop())\n",
    "    print(s.pop())\n",
    "    print(s.pop())"
   ]
  },
  {
   "cell_type": "markdown",
   "metadata": {},
   "source": [
    "### 队列"
   ]
  },
  {
   "cell_type": "code",
   "execution_count": 15,
   "metadata": {},
   "outputs": [
    {
     "name": "stdout",
     "output_type": "stream",
     "text": [
      "1\n",
      "2\n",
      "3\n",
      "4\n"
     ]
    }
   ],
   "source": [
    "class Queue:\n",
    "    \"\"\"队列\"\"\"\n",
    "    def __init__(self):\n",
    "        self.__list = []\n",
    "    \n",
    "    def enqueue(self, item):\n",
    "        \"\"\"往队列中添加一个item元素\"\"\"\n",
    "        self.__list.append(item)\n",
    "#         self.__list.insert(0, item)\n",
    "    \n",
    "    def dequeue(self):\n",
    "        \"\"\"从队列头部删除一个元素\"\"\"\n",
    "        return self.__list.pop(0)\n",
    "#         return self.__list.pop()\n",
    "    \n",
    "    def is_empty(self):\n",
    "        \"\"\"判断一个队列是否为空\"\"\"\n",
    "        return self.__list == []\n",
    "#         return not self.__list\n",
    "    \n",
    "    def size(self):\n",
    "        \"\"\"返回队列大小\"\"\"\n",
    "        return len(self.__list)\n",
    "\n",
    "if __name__ == '__main__':\n",
    "    q = Queue()\n",
    "    q.enqueue(1)\n",
    "    q.enqueue(2)\n",
    "    q.enqueue(3)\n",
    "    q.enqueue(4)\n",
    "    print(q.dequeue())\n",
    "    print(q.dequeue())\n",
    "    print(q.dequeue())\n",
    "    print(q.dequeue())"
   ]
  },
  {
   "cell_type": "markdown",
   "metadata": {},
   "source": [
    "### 双端队列"
   ]
  },
  {
   "cell_type": "code",
   "execution_count": null,
   "metadata": {},
   "outputs": [],
   "source": [
    "class Queue:\n",
    "    def __init__(self):\n",
    "        self.__list = []\n",
    "    \n",
    "    def add_front(self, item):\n",
    "        self.__list.insert(0, item)\n",
    "    \n",
    "    def add_rear(self, item):\n",
    "        self.__list.append()\n",
    "    \n",
    "    def is_empty(self):\n",
    "        \"\"\"判断一个队列是否为空\"\"\"\n",
    "        return self.__list == []\n",
    "#         return not self.__list\n",
    "    \n",
    "    def size(self):\n",
    "        \"\"\"返回队列大小\"\"\"\n",
    "        return len(self.__list)"
   ]
  }
 ],
 "metadata": {
  "kernelspec": {
   "display_name": "Python 3",
   "language": "python",
   "name": "python3"
  },
  "language_info": {
   "codemirror_mode": {
    "name": "ipython",
    "version": 3
   },
   "file_extension": ".py",
   "mimetype": "text/x-python",
   "name": "python",
   "nbconvert_exporter": "python",
   "pygments_lexer": "ipython3",
   "version": "3.6.4"
  }
 },
 "nbformat": 4,
 "nbformat_minor": 2
}
