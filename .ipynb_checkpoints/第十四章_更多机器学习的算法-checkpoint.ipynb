{
 "cells": [
  {
   "cell_type": "markdown",
   "metadata": {},
   "source": [
    "### 有两个非常重要的机器学习算法的内容没有涉及，贝叶斯算法和神经网络\n",
    "### 贝叶斯算法可能后续会补上，神经网络可以在慕课网中进行学习\n",
    "\n",
    "### 课程假设数据已经处理好了，但是实际工作中，需要对数据进行预处理等操作，对数据进行特征工程，以及进行一些非监督学习的工作\n",
    "\n",
    "### 浏览scikit-learn官网，可以重点阅读User Guide和API这两个部分"
   ]
  }
 ],
 "metadata": {
  "kernelspec": {
   "display_name": "Python 3",
   "language": "python",
   "name": "python3"
  },
  "language_info": {
   "codemirror_mode": {
    "name": "ipython",
    "version": 3
   },
   "file_extension": ".py",
   "mimetype": "text/x-python",
   "name": "python",
   "nbconvert_exporter": "python",
   "pygments_lexer": "ipython3",
   "version": "3.6.4"
  }
 },
 "nbformat": 4,
 "nbformat_minor": 2
}
