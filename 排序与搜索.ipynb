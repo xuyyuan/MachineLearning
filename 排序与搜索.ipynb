{
 "cells": [
  {
   "cell_type": "markdown",
   "metadata": {},
   "source": [
    "### 排序与搜索"
   ]
  },
  {
   "cell_type": "code",
   "execution_count": 1,
   "metadata": {},
   "outputs": [
    {
     "name": "stdout",
     "output_type": "stream",
     "text": [
      "[-1, 0, 1, 2, 3, 6, 9]\n"
     ]
    }
   ],
   "source": [
    "# 冒泡排序，大的往后面排\n",
    "def bubble_sort(alist):\n",
    "    n = len(alist)\n",
    "    for j in range(n-1, 0, -1):\n",
    "        for i in range(j):\n",
    "            if alist[i] > alist[i+1]:\n",
    "                alist[i], alist[i+1] = alist[i+1], alist[i]\n",
    "    return alist # 也可以不写，返回None， 但实参的值已经改变\n",
    "\n",
    "li = [1, 6, 3, 2, 0, 9, -1]\n",
    "bubble_sort(li)\n",
    "print(li)"
   ]
  },
  {
   "cell_type": "code",
   "execution_count": 38,
   "metadata": {},
   "outputs": [
    {
     "name": "stdout",
     "output_type": "stream",
     "text": [
      "[1, 3, 5, -1, 4, 9, 8, 3]\n"
     ]
    }
   ],
   "source": [
    "# 选择排序（1），小的往前面排\n",
    "def selection_sort(alist):\n",
    "    n = len(alist)\n",
    "    for j in range(n-1):\n",
    "        min_index = j\n",
    "        for i in range(j+1, n): # 注意是n，不是n-1, 也不是n+1 \n",
    "            if alist[i] < alist[min_index]:\n",
    "                alist[j], alist[min_index] = alist[min_index], alist[j]\n",
    "li = [1, 3, 5, -1, 4, 9, 8, 3]\n",
    "selection_sort(li)\n",
    "print(li)"
   ]
  },
  {
   "cell_type": "code",
   "execution_count": 40,
   "metadata": {},
   "outputs": [
    {
     "name": "stdout",
     "output_type": "stream",
     "text": [
      "[-1, 0, 1, 3, 3, 5, 9]\n"
     ]
    }
   ],
   "source": [
    "# 选择排序（2）\n",
    "def selection_sort(alist):\n",
    "    n = len(alist)\n",
    "    for j in range(n-1):\n",
    "        for i in range(j+1, n):  \n",
    "            if alist[i] < alist[j]:\n",
    "                    alist[i], alist[j] = alist[j], alist[i]\n",
    "                    \n",
    "li = [1, 3, -1, 0, 5, 9, 3]\n",
    "selection_sort(li)\n",
    "print(li)"
   ]
  },
  {
   "cell_type": "code",
   "execution_count": 49,
   "metadata": {},
   "outputs": [
    {
     "name": "stdout",
     "output_type": "stream",
     "text": [
      "[-2, -1, 1, 3, 3, 4, 5, 9]\n"
     ]
    }
   ],
   "source": [
    "# 插入排序（1）\n",
    "def insert_sort(alist):\n",
    "    n = len(alist)\n",
    "    for j in range(1, n):\n",
    "        for i in range(j, 0, -1): # 注意这里下标里面的0，因为后面是有i-1; 而且要注意的是这里使用了-1,i应理解其中的含义\n",
    "            if alist[i] < alist[i-1]:\n",
    "                alist[i], alist[i-1] = alist[i-1], alist[i]\n",
    "li = [3, 1, 5, 9, 4, -1, -2, 3]\n",
    "insert_sort(li)\n",
    "print(li)"
   ]
  },
  {
   "cell_type": "code",
   "execution_count": 69,
   "metadata": {},
   "outputs": [
    {
     "name": "stdout",
     "output_type": "stream",
     "text": [
      "[-2, -1, 1, 3, 3, 4, 5, 9]\n"
     ]
    }
   ],
   "source": [
    "# 插入排序（2）\n",
    "def insert_sort(alist):\n",
    "    n = len(alist)\n",
    "    for j in range(1, n):\n",
    "        while j > 0 and alist[j-1] > alist[j]:\n",
    "            alist[j-1], alist[j] = alist[j], alist[j-1]\n",
    "            j -= 1        \n",
    "li = [3, 1, 5, 9, 4, -1, -2, 3]\n",
    "insert_sort(li)\n",
    "print(li)"
   ]
  },
  {
   "cell_type": "code",
   "execution_count": 68,
   "metadata": {},
   "outputs": [
    {
     "name": "stdout",
     "output_type": "stream",
     "text": [
      "[-2, -1, 1, 3, 3, 4, 5, 9]\n"
     ]
    }
   ],
   "source": [
    "# 希尔排序\n",
    "def shell_sort(alist):\n",
    "    n = len(alist)\n",
    "    gap = n//2\n",
    "    while gap > 0:\n",
    "        for j in range(gap, n):\n",
    "            while j >= gap and alist[j-gap] > alist[j]:\n",
    "                alist[j-gap], alist[j] = alist[j], alist[j-gap]\n",
    "                j -= gap\n",
    "        gap = gap//2\n",
    "li = [3, 1, 5, 9, 4, -1, -2, 3]\n",
    "insert_sort(li)\n",
    "print(li)"
   ]
  },
  {
   "cell_type": "code",
   "execution_count": 7,
   "metadata": {},
   "outputs": [
    {
     "name": "stdout",
     "output_type": "stream",
     "text": [
      "[17, 20, 26, 31, 44, 54, 55, 77, 93]\n"
     ]
    }
   ],
   "source": [
    "# 归并排序\n",
    "def merge_sort(alist):\n",
    "    if len(alist) <= 1:\n",
    "        return alist\n",
    "    # 二分分解\n",
    "    num = len(alist)//2\n",
    "    left = merge_sort(alist[:num])\n",
    "    right = merge_sort(alist[num:])\n",
    "    # 合并\n",
    "    return merge(left,right)\n",
    "\n",
    "def merge(left, right):\n",
    "    '''合并操作，将两个有序数组left[]和right[]合并成一个大的有序数组'''\n",
    "    #left与right的下标指针\n",
    "    l, r = 0, 0\n",
    "    result = []\n",
    "    while l<len(left) and r<len(right):\n",
    "        if left[l] < right[r]:\n",
    "            result.append(left[l])\n",
    "            l += 1\n",
    "        else:\n",
    "            result.append(right[r])\n",
    "            r += 1\n",
    "    result += left[l:]\n",
    "    result += right[r:]\n",
    "    return result\n",
    "\n",
    "alist = [54,26,93,17,77,31,44,55,20]\n",
    "sorted_alist = merge_sort(alist)\n",
    "print(sorted_alist)"
   ]
  },
  {
   "cell_type": "code",
   "execution_count": 24,
   "metadata": {},
   "outputs": [
    {
     "name": "stdout",
     "output_type": "stream",
     "text": [
      "False\n",
      "True\n"
     ]
    }
   ],
   "source": [
    "# 搜索，二分法查找（非递归)\n",
    "\"\"\"有序！\"\"\"\n",
    "def binary_search(alist, item):\n",
    "    start = 0\n",
    "    last = len(alist)-1\n",
    "    while start <= last:\n",
    "        mid_point = (start+last)//2\n",
    "        if item == alist[mid_point]:\n",
    "            return True\n",
    "        elif item < alist[mid_point]:\n",
    "            last = mid_point-1\n",
    "        else:\n",
    "            start = mid_point+1\n",
    "    return False\n",
    "end_time = time.time()\n",
    "\n",
    "testlist = [0, 1, 2, 8, 13, 17, 19, 32, 42,]\n",
    "# testlist = [] # 注意到空列表的情形\n",
    "print(binary_search(testlist, 3))\n",
    "print(binary_search(testlist, 42))"
   ]
  },
  {
   "cell_type": "code",
   "execution_count": 22,
   "metadata": {},
   "outputs": [
    {
     "name": "stdout",
     "output_type": "stream",
     "text": [
      "False\n",
      "True\n",
      "0.0\n"
     ]
    }
   ],
   "source": [
    "# 搜索，二分法查找（递归）\n",
    "\"\"\"有序！\"\"\"\n",
    "\n",
    "def binary_search(alist, item):\n",
    "    if len(alist) == 0:\n",
    "        return False\n",
    "    else:\n",
    "        mid_point = len(alist)//2\n",
    "        if item == alist[mid_point]:\n",
    "            return  True\n",
    "        elif item < alist[mid_point]:\n",
    "            return binary_search(alist[:mid_point], item) # 注意这里的mid_point不加1\n",
    "        else:\n",
    "            return binary_search(alist[mid_point+1:], item)  # 注意这里的mid_search+1\n",
    "\n",
    "testlist = [0, 1, 2, 8, 13, 17, 19, 32, 42,]\n",
    "# testlist = [] # 注意到空列表的情形\n",
    "print(binary_search(testlist, 3))\n",
    "print(binary_search(testlist, 17))"
   ]
  },
  {
   "cell_type": "code",
   "execution_count": 1,
   "metadata": {},
   "outputs": [
    {
     "name": "stdout",
     "output_type": "stream",
     "text": [
      "[-1, 0, 1, 2, 2, 3, 4, 7, 8, 9, 10, 10, 11]\n"
     ]
    }
   ],
   "source": [
    "# 快速排序\n",
    "def quick_sort(alist, first, last):\n",
    "    if first >= last:\n",
    "        return \n",
    "    mid_value = alist[first]\n",
    "    low = first\n",
    "    high = last\n",
    "    \n",
    "    while low < high:\n",
    "    \n",
    "        # high左移\n",
    "        while low < high and alist[high] >= mid_value:      # 注意这里是大于等于号，考虑到了相等的情况，下面的循环没加上等号，这里统一把相等的数放在右边\n",
    "            high -= 1\n",
    "        alist[low] = alist[high]\n",
    "        \n",
    "        # low右移\n",
    "        while low < high and alist[low] < mid_value:\n",
    "            low += 1\n",
    "        alist[high] = alist[low]    \n",
    "    alist[low] = mid_value\n",
    "    \n",
    "    quick_sort(alist, first, low-1) # 想想时low-1还是low\n",
    "    quick_sort(alist, low+1, last)\n",
    "    \n",
    "li = [3, 2, 8, 1, 0, 4, 10, 7, -1, 9, 10, 11, 2]\n",
    "quick_sort(li, 0, len(li)-1)\n",
    "print(li)"
   ]
  }
 ],
 "metadata": {
  "kernelspec": {
   "display_name": "Python 3",
   "language": "python",
   "name": "python3"
  },
  "language_info": {
   "codemirror_mode": {
    "name": "ipython",
    "version": 3
   },
   "file_extension": ".py",
   "mimetype": "text/x-python",
   "name": "python",
   "nbconvert_exporter": "python",
   "pygments_lexer": "ipython3",
   "version": "3.6.4"
  }
 },
 "nbformat": 4,
 "nbformat_minor": 1
}
