{
 "cells": [
  {
   "cell_type": "markdown",
   "metadata": {},
   "source": [
    "# K近邻算法"
   ]
  },
  {
   "cell_type": "markdown",
   "metadata": {},
   "source": [
    "## 画图最直观的信息"
   ]
  },
  {
   "cell_type": "code",
   "execution_count": 4,
   "metadata": {},
   "outputs": [],
   "source": [
    "import numpy as np\n",
    "import matplotlib as mlp\n",
    "import matplotlib.pyplot as plt"
   ]
  },
  {
   "cell_type": "code",
   "execution_count": 5,
   "metadata": {},
   "outputs": [],
   "source": [
    "raw_data_X = [[3.393533211, 2.332173381],\n",
    "            [3.110073483, 1.781539638],\n",
    "            [1.343808831, 3.368380954],\n",
    "            [3.582294042, 4.679179110],\n",
    "            [2.280362439, 2.866990263],\n",
    "            [7.423436942, 4.696522875],\n",
    "            [5.745051997, 3.533989803],\n",
    "            [9.172168622, 2.511101045],\n",
    "            [7.792783481, 3.424088941],\n",
    "            [7.939820817, 0.791637231]]\n",
    "raw_data_y = [0, 0, 0, 0, 0, 1, 1, 1, 1, 1]"
   ]
  },
  {
   "cell_type": "code",
   "execution_count": 11,
   "metadata": {},
   "outputs": [
    {
     "data": {
      "text/plain": [
       "array([[3.39353321, 2.33217338],\n",
       "       [3.11007348, 1.78153964],\n",
       "       [1.34380883, 3.36838095],\n",
       "       [3.58229404, 4.67917911],\n",
       "       [2.28036244, 2.86699026],\n",
       "       [7.42343694, 4.69652288],\n",
       "       [5.745052  , 3.5339898 ],\n",
       "       [9.17216862, 2.51110105],\n",
       "       [7.79278348, 3.42408894],\n",
       "       [7.93982082, 0.79163723]])"
      ]
     },
     "execution_count": 11,
     "metadata": {},
     "output_type": "execute_result"
    }
   ],
   "source": [
    "X_train = np.array(raw_data_X)\n",
    "X_train"
   ]
  },
  {
   "cell_type": "code",
   "execution_count": 7,
   "metadata": {},
   "outputs": [
    {
     "data": {
      "text/plain": [
       "array([0, 0, 0, 0, 0, 1, 1, 1, 1, 1])"
      ]
     },
     "execution_count": 7,
     "metadata": {},
     "output_type": "execute_result"
    }
   ],
   "source": [
    "y_train = np.array(raw_data_y)\n",
    "y_train"
   ]
  },
  {
   "cell_type": "code",
   "execution_count": 14,
   "metadata": {},
   "outputs": [
    {
     "data": {
      "image/png": "[encoded data removed]",
      "text/plain": [
       "<Figure size 432x288 with 1 Axes>"
      ]
     },
     "metadata": {},
     "output_type": "display_data"
    }
   ],
   "source": [
    "plt.scatter(x_train[y_train==0, 0], x_train[y_train==0, 1], color='g')\n",
    "plt.scatter(x_train[y_train==1, 0], x_train[y_train==1, 1], color='r')\n",
    "plt.show()"
   ]
  },
  {
   "cell_type": "code",
   "execution_count": 8,
   "metadata": {},
   "outputs": [],
   "source": [
    "x = np.array([8.093607318, 3.365731514])"
   ]
  },
  {
   "cell_type": "code",
   "execution_count": 16,
   "metadata": {},
   "outputs": [
    {
     "data": {
      "image/png": "[encoded data removed]",
      "text/plain": [
       "<Figure size 432x288 with 1 Axes>"
      ]
     },
     "metadata": {},
     "output_type": "display_data"
    }
   ],
   "source": [
    "plt.scatter(x_train[y_train==0, 0], x_train[y_train==0, 1], color='g')\n",
    "plt.scatter(x_train[y_train==1, 0], x_train[y_train==1, 1], color='r')\n",
    "plt.scatter(x[0], x[1], color='b')\n",
    "plt.show()"
   ]
  },
  {
   "cell_type": "markdown",
   "metadata": {},
   "source": [
    "## kNN的过程"
   ]
  },
  {
   "cell_type": "code",
   "execution_count": 16,
   "metadata": {},
   "outputs": [
    {
     "data": {
      "text/plain": [
       "[4.812373533463742,\n",
       " 5.229270827235305,\n",
       " 6.74979900698086,\n",
       " 4.6986266144110695,\n",
       " 5.83460014556857,\n",
       " 1.4900114024329525,\n",
       " 2.354574897431513,\n",
       " 1.3761132675144652,\n",
       " 0.3064319992975,\n",
       " 2.5786840957478887]"
      ]
     },
     "execution_count": 16,
     "metadata": {},
     "output_type": "execute_result"
    }
   ],
   "source": [
    "from math import sqrt\n",
    "distance = []\n",
    "for x_train in X_train:\n",
    "    d = sqrt(np.sum((x_train-x)**2))\n",
    "    distance.append(d)\n",
    "distance\n",
    "# 这里用到了universal function"
   ]
  },
  {
   "cell_type": "code",
   "execution_count": 49,
   "metadata": {},
   "outputs": [
    {
     "data": {
      "text/plain": [
       "[4.812373533463742,\n",
       " 5.229270827235305,\n",
       " 6.74979900698086,\n",
       " 4.6986266144110695,\n",
       " 5.83460014556857,\n",
       " 1.4900114024329525,\n",
       " 2.354574897431513,\n",
       " 1.3761132675144652,\n",
       " 0.3064319992975,\n",
       " 2.5786840957478887]"
      ]
     },
     "execution_count": 49,
     "metadata": {},
     "output_type": "execute_result"
    }
   ],
   "source": [
    "# 其实呢，用一句话就可以搞定\n",
    "from math import sqrt\n",
    "distance = [sqrt(np.sum((x_train-x)**2)) for x_train in X_train]\n",
    "distance"
   ]
  },
  {
   "cell_type": "code",
   "execution_count": 21,
   "metadata": {},
   "outputs": [
    {
     "data": {
      "text/plain": [
       "array([8, 7, 5, 6, 9, 3, 0, 1, 4, 2], dtype=int64)"
      ]
     },
     "execution_count": 21,
     "metadata": {},
     "output_type": "execute_result"
    }
   ],
   "source": [
    "nearest = np.argsort(distance)\n",
    "nearest\n",
    "# 我们最终想要的是一个排序的结果"
   ]
  },
  {
   "cell_type": "code",
   "execution_count": 22,
   "metadata": {},
   "outputs": [],
   "source": [
    "k = 6"
   ]
  },
  {
   "cell_type": "code",
   "execution_count": 24,
   "metadata": {},
   "outputs": [
    {
     "data": {
      "text/plain": [
       "[1, 1, 1, 1, 1, 0]"
      ]
     },
     "execution_count": 24,
     "metadata": {},
     "output_type": "execute_result"
    }
   ],
   "source": [
    "topK_y = [y_train[i] for i in nearest[:k]]\n",
    "topK_y"
   ]
  },
  {
   "cell_type": "code",
   "execution_count": 25,
   "metadata": {},
   "outputs": [
    {
     "data": {
      "text/plain": [
       "Counter({1: 5, 0: 1})"
      ]
     },
     "execution_count": 25,
     "metadata": {},
     "output_type": "execute_result"
    }
   ],
   "source": [
    "# 不同类别具体有多少个\n",
    "from collections import Counter\n",
    "Counter(topK_y)"
   ]
  },
  {
   "cell_type": "code",
   "execution_count": 26,
   "metadata": {},
   "outputs": [
    {
     "data": {
      "text/plain": [
       "[(1, 5), (0, 1)]"
      ]
     },
     "execution_count": 26,
     "metadata": {},
     "output_type": "execute_result"
    }
   ],
   "source": [
    "votes = Counter(topK_y)\n",
    "votes.most_common(2)\n",
    "# 找到票数最多的2个元素，返回结果是一个列表"
   ]
  },
  {
   "cell_type": "code",
   "execution_count": 30,
   "metadata": {},
   "outputs": [
    {
     "data": {
      "text/plain": [
       "1"
      ]
     },
     "execution_count": 30,
     "metadata": {},
     "output_type": "execute_result"
    }
   ],
   "source": [
    "# 我们只关心票数最多的,得3出来的结果\n",
    "predict_y = votes.most_common(1)[0][0]\n",
    "predict_y"
   ]
  },
  {
   "cell_type": "code",
   "execution_count": 74,
   "metadata": {},
   "outputs": [
    {
     "data": {
      "text/plain": [
       "1"
      ]
     },
     "execution_count": 74,
     "metadata": {},
     "output_type": "execute_result"
    }
   ],
   "source": [
    "# 总结下kNN算法的步骤：\n",
    "\n",
    "import numpy as np\n",
    "import  matplotlib.pyplot as plt\n",
    "from collections import Counter\n",
    "# from math import sqrt\n",
    "# X_train  //  y_train  //  x\n",
    "distance = [sqrt(np.sum((x_train-x)**2)) for x_train in X_train]\n",
    "nearest = np.argsort(distance)\n",
    "k = 6\n",
    "topK_y = [y_train[i] for i in nearest[:k]]\n",
    "votes = Counter(topK_y)\n",
    "predict_y = votes.most_common(1)[0][0]\n",
    "predict_y"
   ]
  },
  {
   "cell_type": "markdown",
   "metadata": {},
   "source": [
    "## scikit-learn中机器学习算法封装"
   ]
  },
  {
   "cell_type": "code",
   "execution_count": 5,
   "metadata": {},
   "outputs": [],
   "source": [
    "import numpy as np\n",
    "import matplotlib.pyplot as plt\n",
    "\n",
    "raw_data_X = [[3.393533211, 2.332173381],\n",
    "            [3.110073483, 1.781539638],\n",
    "            [1.343808831, 3.368380954],\n",
    "            [3.582294042, 4.679179110],\n",
    "            [2.280362439, 2.866990263],\n",
    "            [7.423436942, 4.696522875],\n",
    "            [5.745051997, 3.533989803],\n",
    "            [9.172168622, 2.511101045],\n",
    "            [7.792783481, 3.424088941],\n",
    "            [7.939820817, 0.791637231]]\n",
    "raw_data_y = [0, 0, 0, 0, 0, 1, 1, 1, 1, 1]\n",
    "\n",
    "X_train = np.array(raw_data_X)\n",
    "y_train = np.array(raw_data_y)\n",
    "\n",
    "x = np.array([8.093607318, 3.365731514])"
   ]
  },
  {
   "cell_type": "code",
   "execution_count": 6,
   "metadata": {},
   "outputs": [],
   "source": [
    "from sklearn.neighbors import KNeighborsClassifier"
   ]
  },
  {
   "cell_type": "code",
   "execution_count": 8,
   "metadata": {},
   "outputs": [
    {
     "data": {
      "text/plain": [
       "1"
      ]
     },
     "execution_count": 8,
     "metadata": {},
     "output_type": "execute_result"
    }
   ],
   "source": [
    "kNN_classfier = KNeighborsClassifier(n_neighbors=6)\n",
    "kNN_classfier.fit(X_train, y_train)\n",
    "y_predict = kNN_classfier.predict(x.reshape(1, -1))\n",
    "y_predict[0] # 因为只有一个样本嘛"
   ]
  },
  {
   "cell_type": "markdown",
   "metadata": {},
   "source": [
    "## 将自己的kNN算法封装为sklearn一样的形式"
   ]
  },
  {
   "cell_type": "code",
   "execution_count": 27,
   "metadata": {},
   "outputs": [],
   "source": [
    "%run kNN.py"
   ]
  },
  {
   "cell_type": "code",
   "execution_count": 28,
   "metadata": {},
   "outputs": [],
   "source": [
    "kNN_clf = kNNclassfier(k=6)"
   ]
  },
  {
   "cell_type": "code",
   "execution_count": 29,
   "metadata": {},
   "outputs": [
    {
     "data": {
      "text/plain": [
       "kNN(6)"
      ]
     },
     "execution_count": 29,
     "metadata": {},
     "output_type": "execute_result"
    }
   ],
   "source": [
    "kNN_clf.fit(X_train, y_train)"
   ]
  },
  {
   "cell_type": "code",
   "execution_count": 31,
   "metadata": {},
   "outputs": [
    {
     "data": {
      "text/plain": [
       "array([1])"
      ]
     },
     "execution_count": 31,
     "metadata": {},
     "output_type": "execute_result"
    }
   ],
   "source": [
    "y_predict = kNN_classfier.predict(x.reshape(1, -1))\n",
    "y_predict"
   ]
  },
  {
   "cell_type": "code",
   "execution_count": 32,
   "metadata": {},
   "outputs": [
    {
     "data": {
      "text/plain": [
       "1"
      ]
     },
     "execution_count": 32,
     "metadata": {},
     "output_type": "execute_result"
    }
   ],
   "source": [
    "y_predict[0]"
   ]
  },
  {
   "cell_type": "markdown",
   "metadata": {},
   "source": [
    "## 训练数据集，测试数据集 "
   ]
  },
  {
   "cell_type": "markdown",
   "metadata": {},
   "source": [
    "### 测试我们的算法"
   ]
  },
  {
   "cell_type": "code",
   "execution_count": 42,
   "metadata": {},
   "outputs": [],
   "source": [
    "import numpy as np\n",
    "import matplotlib.pyplot as plt\n",
    "from sklearn import datasets"
   ]
  },
  {
   "cell_type": "code",
   "execution_count": 46,
   "metadata": {},
   "outputs": [],
   "source": [
    "iris = datasets.load_iris()\n",
    "X = iris.data\n",
    "y = iris.target"
   ]
  },
  {
   "cell_type": "code",
   "execution_count": 47,
   "metadata": {},
   "outputs": [
    {
     "data": {
      "text/plain": [
       "(150, 4)"
      ]
     },
     "execution_count": 47,
     "metadata": {},
     "output_type": "execute_result"
    }
   ],
   "source": [
    "X.shape"
   ]
  },
  {
   "cell_type": "code",
   "execution_count": 48,
   "metadata": {},
   "outputs": [
    {
     "data": {
      "text/plain": [
       "(150,)"
      ]
     },
     "execution_count": 48,
     "metadata": {},
     "output_type": "execute_result"
    }
   ],
   "source": [
    "y.shape"
   ]
  },
  {
   "cell_type": "markdown",
   "metadata": {},
   "source": [
    "### train_test_split"
   ]
  },
  {
   "cell_type": "code",
   "execution_count": 51,
   "metadata": {},
   "outputs": [
    {
     "data": {
      "text/plain": [
       "array([0, 0, 0, 0, 0, 0, 0, 0, 0, 0, 0, 0, 0, 0, 0, 0, 0, 0, 0, 0, 0, 0,\n",
       "       0, 0, 0, 0, 0, 0, 0, 0, 0, 0, 0, 0, 0, 0, 0, 0, 0, 0, 0, 0, 0, 0,\n",
       "       0, 0, 0, 0, 0, 0, 1, 1, 1, 1, 1, 1, 1, 1, 1, 1, 1, 1, 1, 1, 1, 1,\n",
       "       1, 1, 1, 1, 1, 1, 1, 1, 1, 1, 1, 1, 1, 1, 1, 1, 1, 1, 1, 1, 1, 1,\n",
       "       1, 1, 1, 1, 1, 1, 1, 1, 1, 1, 1, 1, 2, 2, 2, 2, 2, 2, 2, 2, 2, 2,\n",
       "       2, 2, 2, 2, 2, 2, 2, 2, 2, 2, 2, 2, 2, 2, 2, 2, 2, 2, 2, 2, 2, 2,\n",
       "       2, 2, 2, 2, 2, 2, 2, 2, 2, 2, 2, 2, 2, 2, 2, 2, 2, 2])"
      ]
     },
     "execution_count": 51,
     "metadata": {},
     "output_type": "execute_result"
    }
   ],
   "source": [
    "y\n",
    "# y是排好序的，所以要将原始数据进行乱序\n",
    "# 注意X和y是分离的，又是一一对应的"
   ]
  },
  {
   "cell_type": "code",
   "execution_count": 53,
   "metadata": {},
   "outputs": [],
   "source": [
    "# 索引的随机排列\n",
    "shuffle_indexes = np.random.permutation(len(X))"
   ]
  },
  {
   "cell_type": "code",
   "execution_count": 56,
   "metadata": {},
   "outputs": [
    {
     "data": {
      "text/plain": [
       "30"
      ]
     },
     "execution_count": 56,
     "metadata": {},
     "output_type": "execute_result"
    }
   ],
   "source": [
    "# 选取测试数据集的比例\n",
    "test_ratio = 0.2\n",
    "test_size = int(len(X) * test_ratio) # 乘完之后有可能是浮点数，进行强制转换\n",
    "test_size"
   ]
  },
  {
   "cell_type": "code",
   "execution_count": 65,
   "metadata": {},
   "outputs": [],
   "source": [
    "test_indexes = shuffle_indexes[:test_size]\n",
    "train_indexes = shuffle_indexes[test_size:]"
   ]
  },
  {
   "cell_type": "code",
   "execution_count": 61,
   "metadata": {},
   "outputs": [],
   "source": [
    "X_train = X[train_indexes]\n",
    "y_train = y[train_indexes]\n",
    "\n",
    "X_test = X[test_indexes]\n",
    "y_test = y[test_indexes]"
   ]
  },
  {
   "cell_type": "code",
   "execution_count": 63,
   "metadata": {},
   "outputs": [
    {
     "name": "stdout",
     "output_type": "stream",
     "text": [
      "(120, 4)\n",
      "(120,)\n"
     ]
    }
   ],
   "source": [
    "print(X_train.shape)\n",
    "print(y_train.shape)"
   ]
  },
  {
   "cell_type": "code",
   "execution_count": 68,
   "metadata": {},
   "outputs": [
    {
     "name": "stdout",
     "output_type": "stream",
     "text": [
      "(30, 4)\n",
      "(30,)\n"
     ]
    }
   ],
   "source": [
    "print(X_test.shape)\n",
    "print(y_test.shape)"
   ]
  },
  {
   "cell_type": "markdown",
   "metadata": {},
   "source": [
    "### 使用我们的算法"
   ]
  },
  {
   "cell_type": "code",
   "execution_count": 35,
   "metadata": {},
   "outputs": [],
   "source": [
    "%run k近邻算法/kNN.py"
   ]
  },
  {
   "cell_type": "code",
   "execution_count": 36,
   "metadata": {},
   "outputs": [],
   "source": [
    "import numpy as np\n",
    "from sklearn import datasets"
   ]
  },
  {
   "cell_type": "code",
   "execution_count": 37,
   "metadata": {},
   "outputs": [],
   "source": [
    "iris = datasets.load_iris()\n",
    "X = iris.data\n",
    "y = iris.target"
   ]
  },
  {
   "cell_type": "code",
   "execution_count": 38,
   "metadata": {},
   "outputs": [],
   "source": [
    "from k近邻算法.model_selection import train_test_split"
   ]
  },
  {
   "cell_type": "code",
   "execution_count": 39,
   "metadata": {},
   "outputs": [
    {
     "name": "stdout",
     "output_type": "stream",
     "text": [
      "(120, 4)\n",
      "(120,)\n",
      "(30, 4)\n",
      "(30,)\n"
     ]
    }
   ],
   "source": [
    "X_train, X_test, y_train, y_test = train_test_split(X, y)\n",
    "print(X_train.shape)\n",
    "print(y_train.shape)\n",
    "print(X_test.shape)\n",
    "print(y_test.shape)"
   ]
  },
  {
   "cell_type": "code",
   "execution_count": 40,
   "metadata": {},
   "outputs": [],
   "source": [
    "my_kNN_clf = kNNclassfier(k=4)"
   ]
  },
  {
   "cell_type": "code",
   "execution_count": 41,
   "metadata": {},
   "outputs": [
    {
     "data": {
      "text/plain": [
       "kNN(4)"
      ]
     },
     "execution_count": 41,
     "metadata": {},
     "output_type": "execute_result"
    }
   ],
   "source": [
    "my_kNN_clf.fit(X_train, y_train)"
   ]
  },
  {
   "cell_type": "code",
   "execution_count": 42,
   "metadata": {},
   "outputs": [
    {
     "data": {
      "text/plain": [
       "array([0, 0, 1, 1, 0, 1, 0, 2, 0, 1, 2, 1, 2, 2, 1, 1, 0, 1, 2, 0, 1, 0,\n",
       "       0, 0, 1, 0, 0, 1, 0, 1])"
      ]
     },
     "execution_count": 42,
     "metadata": {},
     "output_type": "execute_result"
    }
   ],
   "source": [
    "y_predict = my_kNN_clf.predict(X_test)\n",
    "y_predict"
   ]
  },
  {
   "cell_type": "code",
   "execution_count": 43,
   "metadata": {},
   "outputs": [
    {
     "data": {
      "text/plain": [
       "array([0, 0, 2, 1, 0, 1, 0, 2, 0, 1, 2, 1, 2, 2, 1, 2, 0, 1, 2, 0, 2, 0,\n",
       "       0, 0, 1, 0, 0, 1, 0, 1])"
      ]
     },
     "execution_count": 43,
     "metadata": {},
     "output_type": "execute_result"
    }
   ],
   "source": [
    "y_test"
   ]
  },
  {
   "cell_type": "code",
   "execution_count": 44,
   "metadata": {},
   "outputs": [
    {
     "data": {
      "text/plain": [
       "27"
      ]
     },
     "execution_count": 44,
     "metadata": {},
     "output_type": "execute_result"
    }
   ],
   "source": [
    "# 求算法准确程度\n",
    "sum(y_predict == y_test)\n",
    "# sum(1 if y_predict[i]==y_test[i] else 0 for i in range(len(y_predict)))  # 比较麻烦"
   ]
  },
  {
   "cell_type": "code",
   "execution_count": 45,
   "metadata": {},
   "outputs": [
    {
     "data": {
      "text/plain": [
       "0.9"
      ]
     },
     "execution_count": 45,
     "metadata": {},
     "output_type": "execute_result"
    }
   ],
   "source": [
    "# 求分类的准确度\n",
    "sum(y_predict == y_test)/len(y_test)"
   ]
  },
  {
   "cell_type": "markdown",
   "metadata": {},
   "source": [
    "### sklearn中的train_test_split"
   ]
  },
  {
   "cell_type": "code",
   "execution_count": null,
   "metadata": {},
   "outputs": [],
   "source": []
  },
  {
   "cell_type": "code",
   "execution_count": 160,
   "metadata": {},
   "outputs": [],
   "source": [
    "from sklearn.model_selection import train_test_split"
   ]
  },
  {
   "cell_type": "code",
   "execution_count": 164,
   "metadata": {},
   "outputs": [],
   "source": [
    "X_train, X_test, y_train, y_test = train_test_split(X, y, test_size=0.2, random_state=666) # test_size默认是0.2，可以不写的;随机种子根据需求写"
   ]
  },
  {
   "cell_type": "code",
   "execution_count": 162,
   "metadata": {},
   "outputs": [
    {
     "name": "stdout",
     "output_type": "stream",
     "text": [
      "(120, 4)\n",
      "(120,)\n"
     ]
    }
   ],
   "source": [
    "print(X_train.shape)\n",
    "print(y_train.shape)"
   ]
  },
  {
   "cell_type": "code",
   "execution_count": 163,
   "metadata": {},
   "outputs": [
    {
     "name": "stdout",
     "output_type": "stream",
     "text": [
      "(30, 4)\n",
      "(30,)\n"
     ]
    }
   ],
   "source": [
    "print(X_test.shape)\n",
    "print(y_test.shape)"
   ]
  },
  {
   "cell_type": "code",
   "execution_count": 46,
   "metadata": {},
   "outputs": [],
   "source": [
    "# 其他操作与与上面相同，不再赘述"
   ]
  },
  {
   "cell_type": "markdown",
   "metadata": {},
   "source": [
    "## 分类准确度"
   ]
  },
  {
   "cell_type": "code",
   "execution_count": 47,
   "metadata": {},
   "outputs": [],
   "source": [
    "import numpy as np\n",
    "import matplotlib as mpl\n",
    "import matplotlib.pyplot as plt\n",
    "from sklearn import datasets"
   ]
  },
  {
   "cell_type": "code",
   "execution_count": 52,
   "metadata": {},
   "outputs": [
    {
     "data": {
      "text/plain": [
       "dict_keys(['data', 'target', 'target_names', 'images', 'DESCR'])"
      ]
     },
     "execution_count": 52,
     "metadata": {},
     "output_type": "execute_result"
    }
   ],
   "source": [
    "digits = datasets.load_digits()   # 手写数字库\n",
    "digits.keys()"
   ]
  },
  {
   "cell_type": "code",
   "execution_count": 54,
   "metadata": {},
   "outputs": [],
   "source": [
    "# print(digits.DESCR)"
   ]
  },
  {
   "cell_type": "code",
   "execution_count": 61,
   "metadata": {},
   "outputs": [
    {
     "data": {
      "text/plain": [
       "(1797, 64)"
      ]
     },
     "execution_count": 61,
     "metadata": {},
     "output_type": "execute_result"
    }
   ],
   "source": [
    "X = digits.data\n",
    "X.shape"
   ]
  },
  {
   "cell_type": "code",
   "execution_count": 66,
   "metadata": {},
   "outputs": [
    {
     "data": {
      "text/plain": [
       "(1797,)"
      ]
     },
     "execution_count": 66,
     "metadata": {},
     "output_type": "execute_result"
    }
   ],
   "source": [
    "y = digits.target\n",
    "y.shape"
   ]
  },
  {
   "cell_type": "code",
   "execution_count": 67,
   "metadata": {},
   "outputs": [
    {
     "data": {
      "text/plain": [
       "array([0, 1, 2, 3, 4, 5, 6, 7, 8, 9])"
      ]
     },
     "execution_count": 67,
     "metadata": {},
     "output_type": "execute_result"
    }
   ],
   "source": [
    "digits.target_names"
   ]
  },
  {
   "cell_type": "code",
   "execution_count": 68,
   "metadata": {},
   "outputs": [
    {
     "data": {
      "text/plain": [
       "array([0, 1, 2, 3, 4, 5, 6, 7, 8, 9, 0, 1, 2, 3, 4, 5, 6, 7, 8, 9, 0, 1,\n",
       "       2, 3, 4, 5, 6, 7, 8, 9, 0, 9, 5, 5, 6, 5, 0, 9, 8, 9, 8, 4, 1, 7,\n",
       "       7, 3, 5, 1, 0, 0, 2, 2, 7, 8, 2, 0, 1, 2, 6, 3, 3, 7, 3, 3, 4, 6,\n",
       "       6, 6, 4, 9, 1, 5, 0, 9, 5, 2, 8, 2, 0, 0, 1, 7, 6, 3, 2, 1, 7, 4,\n",
       "       6, 3, 1, 3, 9, 1, 7, 6, 8, 4, 3, 1])"
      ]
     },
     "execution_count": 68,
     "metadata": {},
     "output_type": "execute_result"
    }
   ],
   "source": [
    "y[:100]"
   ]
  },
  {
   "cell_type": "code",
   "execution_count": 69,
   "metadata": {},
   "outputs": [
    {
     "data": {
      "text/plain": [
       "array([[ 0.,  0.,  5., 13.,  9.,  1.,  0.,  0.,  0.,  0., 13., 15., 10.,\n",
       "        15.,  5.,  0.,  0.,  3., 15.,  2.,  0., 11.,  8.,  0.,  0.,  4.,\n",
       "        12.,  0.,  0.,  8.,  8.,  0.,  0.,  5.,  8.,  0.,  0.,  9.,  8.,\n",
       "         0.,  0.,  4., 11.,  0.,  1., 12.,  7.,  0.,  0.,  2., 14.,  5.,\n",
       "        10., 12.,  0.,  0.,  0.,  0.,  6., 13., 10.,  0.,  0.,  0.],\n",
       "       [ 0.,  0.,  0., 12., 13.,  5.,  0.,  0.,  0.,  0.,  0., 11., 16.,\n",
       "         9.,  0.,  0.,  0.,  0.,  3., 15., 16.,  6.,  0.,  0.,  0.,  7.,\n",
       "        15., 16., 16.,  2.,  0.,  0.,  0.,  0.,  1., 16., 16.,  3.,  0.,\n",
       "         0.,  0.,  0.,  1., 16., 16.,  6.,  0.,  0.,  0.,  0.,  1., 16.,\n",
       "        16.,  6.,  0.,  0.,  0.,  0.,  0., 11., 16., 10.,  0.,  0.],\n",
       "       [ 0.,  0.,  0.,  4., 15., 12.,  0.,  0.,  0.,  0.,  3., 16., 15.,\n",
       "        14.,  0.,  0.,  0.,  0.,  8., 13.,  8., 16.,  0.,  0.,  0.,  0.,\n",
       "         1.,  6., 15., 11.,  0.,  0.,  0.,  1.,  8., 13., 15.,  1.,  0.,\n",
       "         0.,  0.,  9., 16., 16.,  5.,  0.,  0.,  0.,  0.,  3., 13., 16.,\n",
       "        16., 11.,  5.,  0.,  0.,  0.,  0.,  3., 11., 16.,  9.,  0.],\n",
       "       [ 0.,  0.,  7., 15., 13.,  1.,  0.,  0.,  0.,  8., 13.,  6., 15.,\n",
       "         4.,  0.,  0.,  0.,  2.,  1., 13., 13.,  0.,  0.,  0.,  0.,  0.,\n",
       "         2., 15., 11.,  1.,  0.,  0.,  0.,  0.,  0.,  1., 12., 12.,  1.,\n",
       "         0.,  0.,  0.,  0.,  0.,  1., 10.,  8.,  0.,  0.,  0.,  8.,  4.,\n",
       "         5., 14.,  9.,  0.,  0.,  0.,  7., 13., 13.,  9.,  0.,  0.],\n",
       "       [ 0.,  0.,  0.,  1., 11.,  0.,  0.,  0.,  0.,  0.,  0.,  7.,  8.,\n",
       "         0.,  0.,  0.,  0.,  0.,  1., 13.,  6.,  2.,  2.,  0.,  0.,  0.,\n",
       "         7., 15.,  0.,  9.,  8.,  0.,  0.,  5., 16., 10.,  0., 16.,  6.,\n",
       "         0.,  0.,  4., 15., 16., 13., 16.,  1.,  0.,  0.,  0.,  0.,  3.,\n",
       "        15., 10.,  0.,  0.,  0.,  0.,  0.,  2., 16.,  4.,  0.,  0.],\n",
       "       [ 0.,  0., 12., 10.,  0.,  0.,  0.,  0.,  0.,  0., 14., 16., 16.,\n",
       "        14.,  0.,  0.,  0.,  0., 13., 16., 15., 10.,  1.,  0.,  0.,  0.,\n",
       "        11., 16., 16.,  7.,  0.,  0.,  0.,  0.,  0.,  4.,  7., 16.,  7.,\n",
       "         0.,  0.,  0.,  0.,  0.,  4., 16.,  9.,  0.,  0.,  0.,  5.,  4.,\n",
       "        12., 16.,  4.,  0.,  0.,  0.,  9., 16., 16., 10.,  0.,  0.],\n",
       "       [ 0.,  0.,  0., 12., 13.,  0.,  0.,  0.,  0.,  0.,  5., 16.,  8.,\n",
       "         0.,  0.,  0.,  0.,  0., 13., 16.,  3.,  0.,  0.,  0.,  0.,  0.,\n",
       "        14., 13.,  0.,  0.,  0.,  0.,  0.,  0., 15., 12.,  7.,  2.,  0.,\n",
       "         0.,  0.,  0., 13., 16., 13., 16.,  3.,  0.,  0.,  0.,  7., 16.,\n",
       "        11., 15.,  8.,  0.,  0.,  0.,  1.,  9., 15., 11.,  3.,  0.],\n",
       "       [ 0.,  0.,  7.,  8., 13., 16., 15.,  1.,  0.,  0.,  7.,  7.,  4.,\n",
       "        11., 12.,  0.,  0.,  0.,  0.,  0.,  8., 13.,  1.,  0.,  0.,  4.,\n",
       "         8.,  8., 15., 15.,  6.,  0.,  0.,  2., 11., 15., 15.,  4.,  0.,\n",
       "         0.,  0.,  0.,  0., 16.,  5.,  0.,  0.,  0.,  0.,  0.,  9., 15.,\n",
       "         1.,  0.,  0.,  0.,  0.,  0., 13.,  5.,  0.,  0.,  0.,  0.],\n",
       "       [ 0.,  0.,  9., 14.,  8.,  1.,  0.,  0.,  0.,  0., 12., 14., 14.,\n",
       "        12.,  0.,  0.,  0.,  0.,  9., 10.,  0., 15.,  4.,  0.,  0.,  0.,\n",
       "         3., 16., 12., 14.,  2.,  0.,  0.,  0.,  4., 16., 16.,  2.,  0.,\n",
       "         0.,  0.,  3., 16.,  8., 10., 13.,  2.,  0.,  0.,  1., 15.,  1.,\n",
       "         3., 16.,  8.,  0.,  0.,  0., 11., 16., 15., 11.,  1.,  0.],\n",
       "       [ 0.,  0., 11., 12.,  0.,  0.,  0.,  0.,  0.,  2., 16., 16., 16.,\n",
       "        13.,  0.,  0.,  0.,  3., 16., 12., 10., 14.,  0.,  0.,  0.,  1.,\n",
       "        16.,  1., 12., 15.,  0.,  0.,  0.,  0., 13., 16.,  9., 15.,  2.,\n",
       "         0.,  0.,  0.,  0.,  3.,  0.,  9., 11.,  0.,  0.,  0.,  0.,  0.,\n",
       "         9., 15.,  4.,  0.,  0.,  0.,  9., 12., 13.,  3.,  0.,  0.]])"
      ]
     },
     "execution_count": 69,
     "metadata": {},
     "output_type": "execute_result"
    }
   ],
   "source": [
    "X[:10]"
   ]
  },
  {
   "cell_type": "code",
   "execution_count": 71,
   "metadata": {},
   "outputs": [
    {
     "data": {
      "text/plain": [
       "array([ 0.,  0.,  5., 15., 14.,  3.,  0.,  0.,  0.,  0., 13., 15.,  9.,\n",
       "       15.,  2.,  0.,  0.,  4., 16., 12.,  0., 10.,  6.,  0.,  0.,  8.,\n",
       "       16.,  9.,  0.,  8., 10.,  0.,  0.,  7., 15.,  5.,  0., 12., 11.,\n",
       "        0.,  0.,  7., 13.,  0.,  5., 16.,  6.,  0.,  0.,  0., 16., 12.,\n",
       "       15., 13.,  1.,  0.,  0.,  0.,  6., 16., 12.,  2.,  0.,  0.])"
      ]
     },
     "execution_count": 71,
     "metadata": {},
     "output_type": "execute_result"
    }
   ],
   "source": [
    "some_digit = X[666]\n",
    "some_digit"
   ]
  },
  {
   "cell_type": "code",
   "execution_count": 72,
   "metadata": {},
   "outputs": [
    {
     "data": {
      "text/plain": [
       "0"
      ]
     },
     "execution_count": 72,
     "metadata": {},
     "output_type": "execute_result"
    }
   ],
   "source": [
    "y[666]"
   ]
  },
  {
   "cell_type": "code",
   "execution_count": 77,
   "metadata": {},
   "outputs": [
    {
     "data": {
      "image/png": "[encoded data removed]",
      "text/plain": [
       "<Figure size 432x288 with 1 Axes>"
      ]
     },
     "metadata": {},
     "output_type": "display_data"
    }
   ],
   "source": [
    "some_digit_image = some_digit.reshape(8, 8)\n",
    "plt.imshow(some_digit_image, cmap=mpl.cm.binary) # mpl指的是matplotlib\n",
    "plt.show()"
   ]
  },
  {
   "cell_type": "code",
   "execution_count": 79,
   "metadata": {},
   "outputs": [],
   "source": [
    "from k近邻算法.model_selection import train_test_split"
   ]
  },
  {
   "cell_type": "code",
   "execution_count": 80,
   "metadata": {},
   "outputs": [],
   "source": [
    "X_train, X_test, y_train, y_test = train_test_split(X, y)"
   ]
  },
  {
   "cell_type": "code",
   "execution_count": 81,
   "metadata": {},
   "outputs": [],
   "source": [
    "from k近邻算法.kNN import kNNclassfier"
   ]
  },
  {
   "cell_type": "code",
   "execution_count": 83,
   "metadata": {},
   "outputs": [],
   "source": [
    "my_knn_clf = kNNclassfier(6)"
   ]
  },
  {
   "cell_type": "code",
   "execution_count": 84,
   "metadata": {},
   "outputs": [
    {
     "data": {
      "text/plain": [
       "kNN(6)"
      ]
     },
     "execution_count": 84,
     "metadata": {},
     "output_type": "execute_result"
    }
   ],
   "source": [
    "my_knn_clf.fit(X_train, y_train)"
   ]
  },
  {
   "cell_type": "code",
   "execution_count": 86,
   "metadata": {},
   "outputs": [
    {
     "data": {
      "text/plain": [
       "array([0, 4, 8, 4, 0, 3, 5, 3, 6, 5, 3, 5, 4, 4, 7, 3, 2, 7, 7, 0, 7, 5,\n",
       "       0, 2, 9, 5, 2, 0, 3, 5, 9, 9, 3, 7, 5, 1, 8, 1, 8, 9, 8, 6, 8, 0,\n",
       "       1, 0, 9, 4, 4, 2, 3, 1, 0, 6, 9, 7, 3, 1, 8, 6, 6, 8, 7, 0, 1, 7,\n",
       "       2, 7, 9, 6, 2, 4, 4, 1, 6, 0, 3, 7, 3, 8, 7, 9, 4, 8, 9, 3, 3, 4,\n",
       "       0, 8, 0, 0, 8, 1, 9, 7, 0, 8, 0, 7, 9, 8, 4, 6, 1, 5, 4, 2, 9, 9,\n",
       "       4, 0, 7, 9, 8, 7, 1, 4, 8, 6, 6, 2, 6, 0, 7, 9, 6, 2, 9, 9, 1, 5,\n",
       "       8, 4, 9, 0, 6, 4, 8, 7, 0, 1, 6, 0, 8, 9, 1, 4, 0, 0, 5, 4, 1, 5,\n",
       "       8, 5, 4, 8, 0, 2, 1, 5, 7, 7, 6, 7, 6, 3, 1, 5, 7, 1, 3, 1, 9, 6,\n",
       "       3, 9, 9, 2, 2, 3, 7, 2, 1, 8, 1, 4, 7, 4, 0, 2, 3, 9, 7, 7, 3, 4,\n",
       "       2, 4, 6, 3, 2, 0, 5, 3, 3, 1, 4, 9, 2, 2, 1, 6, 6, 1, 8, 4, 1, 8,\n",
       "       7, 1, 1, 3, 1, 6, 6, 9, 3, 6, 6, 8, 1, 5, 7, 9, 4, 3, 4, 9, 6, 4,\n",
       "       5, 7, 3, 1, 9, 0, 9, 3, 9, 8, 4, 0, 4, 5, 2, 4, 7, 1, 1, 9, 9, 4,\n",
       "       6, 5, 2, 3, 5, 7, 3, 9, 2, 6, 5, 4, 5, 1, 3, 7, 1, 5, 8, 3, 1, 4,\n",
       "       4, 1, 1, 6, 3, 4, 8, 3, 5, 2, 8, 9, 0, 9, 0, 0, 4, 5, 0, 4, 9, 9,\n",
       "       9, 0, 1, 9, 3, 4, 2, 7, 1, 8, 1, 6, 7, 6, 7, 4, 2, 8, 2, 5, 2, 1,\n",
       "       7, 6, 7, 2, 3, 5, 7, 6, 0, 6, 9, 4, 3, 6, 1, 5, 8, 3, 5, 6, 5, 2,\n",
       "       7, 9, 3, 8, 5, 7, 9])"
      ]
     },
     "execution_count": 86,
     "metadata": {},
     "output_type": "execute_result"
    }
   ],
   "source": [
    "y_predict = my_knn_clf.predict(X_test)\n",
    "y_predict"
   ]
  },
  {
   "cell_type": "code",
   "execution_count": 87,
   "metadata": {},
   "outputs": [
    {
     "data": {
      "text/plain": [
       "0.9916434540389972"
      ]
     },
     "execution_count": 87,
     "metadata": {},
     "output_type": "execute_result"
    }
   ],
   "source": [
    "sum(y_predict==y_test)/len(y_test)"
   ]
  },
  {
   "cell_type": "code",
   "execution_count": 89,
   "metadata": {},
   "outputs": [
    {
     "data": {
      "text/plain": [
       "0.9916434540389972"
      ]
     },
     "execution_count": 89,
     "metadata": {},
     "output_type": "execute_result"
    }
   ],
   "source": [
    "from k近邻算法.metrics import accuracy_score\n",
    "accuracy_score(y_test, y_predict)"
   ]
  },
  {
   "cell_type": "markdown",
   "metadata": {},
   "source": [
    "### scikit-learn 中的accuracy_score"
   ]
  },
  {
   "cell_type": "code",
   "execution_count": 10,
   "metadata": {},
   "outputs": [],
   "source": [
    "from sklearn import datasets\n",
    "iris = datasets.load_iris()\n",
    "X = iris.data\n",
    "y= iris.target"
   ]
  },
  {
   "cell_type": "code",
   "execution_count": 1,
   "metadata": {},
   "outputs": [],
   "source": [
    "from sklearn.model_selection import train_test_split"
   ]
  },
  {
   "cell_type": "code",
   "execution_count": 11,
   "metadata": {},
   "outputs": [],
   "source": [
    "X_train, X_test, y_train, y_test = train_test_split(X, y)"
   ]
  },
  {
   "cell_type": "code",
   "execution_count": 16,
   "metadata": {},
   "outputs": [
    {
     "data": {
      "text/plain": [
       "KNeighborsClassifier(algorithm='auto', leaf_size=30, metric='minkowski',\n",
       "           metric_params=None, n_jobs=1, n_neighbors=6, p=2,\n",
       "           weights='uniform')"
      ]
     },
     "execution_count": 16,
     "metadata": {},
     "output_type": "execute_result"
    }
   ],
   "source": [
    "from sklearn.neighbors import KNeighborsClassifier\n",
    "my_knn_clf = KNeighborsClassifier(n_neighbors=6)  # 注意这里的参数是n_neighbors\n",
    "my_knn_clf.fit(X_train, y_train)"
   ]
  },
  {
   "cell_type": "code",
   "execution_count": 18,
   "metadata": {},
   "outputs": [],
   "source": [
    "y_predict = my_knn_clf.predict(X_test)"
   ]
  },
  {
   "cell_type": "code",
   "execution_count": 22,
   "metadata": {},
   "outputs": [
    {
     "data": {
      "text/plain": [
       "0.9736842105263158"
      ]
     },
     "execution_count": 22,
     "metadata": {},
     "output_type": "execute_result"
    }
   ],
   "source": [
    "from sklearn.metrics import accuracy_score\n",
    "accuracy_score(y_test, y_predict)"
   ]
  },
  {
   "cell_type": "code",
   "execution_count": 24,
   "metadata": {},
   "outputs": [
    {
     "data": {
      "text/plain": [
       "0.9736842105263158"
      ]
     },
     "execution_count": 24,
     "metadata": {},
     "output_type": "execute_result"
    }
   ],
   "source": [
    "# 如果我们不关心 y_predict 是什么的话，就可以考虑下面的方式\n",
    "# sklearn同样封装了score这样的一个方法\n",
    "my_knn_clf.score(X_test, y_test)"
   ]
  },
  {
   "cell_type": "markdown",
   "metadata": {},
   "source": [
    "## 超参数"
   ]
  },
  {
   "cell_type": "code",
   "execution_count": 55,
   "metadata": {},
   "outputs": [],
   "source": [
    "import numpy as np\n",
    "from sklearn import datasets"
   ]
  },
  {
   "cell_type": "code",
   "execution_count": 56,
   "metadata": {},
   "outputs": [],
   "source": [
    "iris = datasets.load_iris()\n",
    "X = iris.data\n",
    "y = iris.target"
   ]
  },
  {
   "cell_type": "code",
   "execution_count": 57,
   "metadata": {},
   "outputs": [],
   "source": [
    "from sklearn.model_selection import train_test_split\n",
    "X_train, X_test, y_train, y_test = train_test_split(X, y, test_size=0.2, random_state=666)  # 测试的时候要加上random_state哦"
   ]
  },
  {
   "cell_type": "code",
   "execution_count": 58,
   "metadata": {},
   "outputs": [
    {
     "data": {
      "text/plain": [
       "0.9666666666666667"
      ]
     },
     "execution_count": 58,
     "metadata": {},
     "output_type": "execute_result"
    }
   ],
   "source": [
    "from sklearn.neighbors import KNeighborsClassifier\n",
    "knn_clf = KNeighborsClassifier(n_neighbors=3)\n",
    "knn_clf.fit(X_train, y_train)\n",
    "knn_clf.score(X_test, y_test)"
   ]
  },
  {
   "cell_type": "markdown",
   "metadata": {},
   "source": [
    "### 寻找最好的k  （对best_k进行搜索)"
   ]
  },
  {
   "cell_type": "code",
   "execution_count": 60,
   "metadata": {},
   "outputs": [
    {
     "name": "stdout",
     "output_type": "stream",
     "text": [
      "best_k =  6\n",
      "best_score =  1.0\n"
     ]
    }
   ],
   "source": [
    "best_score = 0.0\n",
    "best_k = -1\n",
    "for k in range(1, 11):\n",
    "    knn_clf = KNeighborsClassifier(n_neighbors=k)\n",
    "    knn_clf.fit(X_train, y_train)\n",
    "    score = knn_clf.score(X_test, y_test)\n",
    "    if score > best_score:\n",
    "        best_k = k\n",
    "        best_score = score\n",
    "        \n",
    "print('best_k = ', best_k)\n",
    "print('best_score = ', best_score)\n",
    "# 如果求出来的 k 值处于边缘上，最好还应该扩展下再测一次"
   ]
  },
  {
   "cell_type": "markdown",
   "metadata": {},
   "source": [
    "### 考虑距离？不考虑距离？（对best_method进行搜索）"
   ]
  },
  {
   "cell_type": "code",
   "execution_count": 78,
   "metadata": {},
   "outputs": [
    {
     "name": "stdout",
     "output_type": "stream",
     "text": [
      "best_k =  6\n",
      "best_score =  1.0\n",
      "best_method =  uniform\n"
     ]
    }
   ],
   "source": [
    "best_method = ''\n",
    "best_score = 0.0\n",
    "best_k = -1\n",
    "for method in ['uniform', 'distance']:\n",
    "    for k in range(1, 11):\n",
    "        knn_clf = KNeighborsClassifier(n_neighbors=k, weights=method)\n",
    "        knn_clf.fit(X_train, y_train)\n",
    "        score = knn_clf.score(X_test, y_test)\n",
    "        if score > best_score:\n",
    "            best_k = k\n",
    "            best_score = score\n",
    "            best_method = method\n",
    "        \n",
    "print('best_k = ', best_k)\n",
    "print('best_score = ', best_score)\n",
    "print('best_method = ', best_method)"
   ]
  },
  {
   "cell_type": "markdown",
   "metadata": {},
   "source": [
    "### 搜索明可夫斯基距离相应的p   ( minkowski 是 kNN 算法中默认的参数，也可以进行网格搜索下)"
   ]
  },
  {
   "cell_type": "code",
   "execution_count": 86,
   "metadata": {},
   "outputs": [
    {
     "name": "stdout",
     "output_type": "stream",
     "text": [
      "best_k =  1\n",
      "best_score =  0.9666666666666667\n",
      "best_p =  1\n",
      "Wall time: 63.2 ms\n"
     ]
    }
   ],
   "source": [
    "%%time\n",
    "\n",
    "best_p = -1\n",
    "best_score = 0.0\n",
    "best_k = -1\n",
    "for k in range(1, 11):\n",
    "    for p in range(1, 6):\n",
    "        knn_clf = KNeighborsClassifier(n_neighbors=k, weights='distance', p = p) \n",
    "        knn_clf.fit(X_train, y_train)\n",
    "        score = knn_clf.score(X_test, y_test)\n",
    "        if score > best_score:\n",
    "            best_k = k\n",
    "            best_score = score\n",
    "            best_p = p\n",
    "\n",
    "print('best_k = ', best_k)\n",
    "print('best_score = ', best_score)\n",
    "print('best_p = ', best_p)\n",
    "# 注意这里只有weights的参数为distance的时候，p才有意义。"
   ]
  },
  {
   "cell_type": "code",
   "execution_count": 83,
   "metadata": {},
   "outputs": [],
   "source": [
    "# 我们可以通过上述方式求出超参数的值，但是有些参数之间可能存在依赖的关系，我们怎么样一次性获取超参数呢？所以这就涉及到下面的网格搜索的相关知识"
   ]
  },
  {
   "cell_type": "markdown",
   "metadata": {},
   "source": [
    "## 网格搜索"
   ]
  },
  {
   "cell_type": "code",
   "execution_count": 1,
   "metadata": {},
   "outputs": [],
   "source": [
    "import numpy as np\n",
    "from sklearn import datasets"
   ]
  },
  {
   "cell_type": "code",
   "execution_count": 2,
   "metadata": {},
   "outputs": [],
   "source": [
    "iris = datasets.load_digits()\n",
    "X = iris.data\n",
    "y= iris.target"
   ]
  },
  {
   "cell_type": "code",
   "execution_count": 3,
   "metadata": {},
   "outputs": [],
   "source": [
    "from sklearn.model_selection import train_test_split\n",
    "\n",
    "X_train, X_test, y_train, y_test = train_test_split(X, y, test_size=0.2, random_state=666)"
   ]
  },
  {
   "cell_type": "code",
   "execution_count": 4,
   "metadata": {},
   "outputs": [
    {
     "data": {
      "text/plain": [
       "0.9888888888888889"
      ]
     },
     "execution_count": 4,
     "metadata": {},
     "output_type": "execute_result"
    }
   ],
   "source": [
    "from sklearn.neighbors import KNeighborsClassifier\n",
    "\n",
    "knn_clf = KNeighborsClassifier(n_neighbors=6)\n",
    "knn_clf.fit(X_train, y_train)\n",
    "knn_clf.score(X_test, y_test)"
   ]
  },
  {
   "cell_type": "markdown",
   "metadata": {},
   "source": [
    "### Grid search"
   ]
  },
  {
   "cell_type": "code",
   "execution_count": 5,
   "metadata": {},
   "outputs": [],
   "source": [
    "# 使用Grid search 之前我们首先需要定义要搜索的参数\n",
    "param_grid = [\n",
    "    {\n",
    "        'weights': ['uniform'],\n",
    "        'n_neighbors': [i for i in range(1, 11)]\n",
    "    },\n",
    "    {\n",
    "        'weights': ['distance'],\n",
    "        'n_neighbors': [i for i in range(1, 11)],\n",
    "        'p': [i for i in range(1, 6)]\n",
    "    },\n",
    "]"
   ]
  },
  {
   "cell_type": "code",
   "execution_count": 6,
   "metadata": {},
   "outputs": [
    {
     "data": {
      "text/plain": [
       "[{'weights': ['uniform'], 'n_neighbors': [1, 2, 3, 4, 5, 6, 7, 8, 9, 10]},\n",
       " {'weights': ['distance'],\n",
       "  'n_neighbors': [1, 2, 3, 4, 5, 6, 7, 8, 9, 10],\n",
       "  'p': [1, 2, 3, 4, 5]}]"
      ]
     },
     "execution_count": 6,
     "metadata": {},
     "output_type": "execute_result"
    }
   ],
   "source": [
    "param_grid"
   ]
  },
  {
   "cell_type": "code",
   "execution_count": 7,
   "metadata": {},
   "outputs": [],
   "source": [
    "# 定义好参数集合之后，下面需要创建一个我们要进行网格搜索对应的机器学习的算法，\n",
    "# 这里要对kNN算法进行网格搜索，所以先创建一个默认的这种kNNclassfier(),这里不需要传任何的参数--->创建 knn_clf\n",
    "knn_clf = KNeighborsClassifier()"
   ]
  },
  {
   "cell_type": "code",
   "execution_count": 8,
   "metadata": {},
   "outputs": [],
   "source": [
    "from sklearn.model_selection import GridSearchCV\n",
    "\n",
    "grid_search = GridSearchCV(knn_clf, param_grid) # 还可以传入更多的参数，来帮助我们进行性能上的提升，比如：n_jobs verbose\n",
    "# 创建实例对象（定义网格搜索对应的对象）"
   ]
  },
  {
   "cell_type": "code",
   "execution_count": 9,
   "metadata": {},
   "outputs": [
    {
     "name": "stdout",
     "output_type": "stream",
     "text": [
      "Wall time: 3min 5s\n"
     ]
    },
    {
     "data": {
      "text/plain": [
       "GridSearchCV(cv=None, error_score='raise',\n",
       "       estimator=KNeighborsClassifier(algorithm='auto', leaf_size=30, metric='minkowski',\n",
       "           metric_params=None, n_jobs=1, n_neighbors=5, p=2,\n",
       "           weights='uniform'),\n",
       "       fit_params=None, iid=True, n_jobs=1,\n",
       "       param_grid=[{'weights': ['uniform'], 'n_neighbors': [1, 2, 3, 4, 5, 6, 7, 8, 9, 10]}, {'weights': ['distance'], 'n_neighbors': [1, 2, 3, 4, 5, 6, 7, 8, 9, 10], 'p': [1, 2, 3, 4, 5]}],\n",
       "       pre_dispatch='2*n_jobs', refit=True, return_train_score='warn',\n",
       "       scoring=None, verbose=0)"
      ]
     },
     "execution_count": 9,
     "metadata": {},
     "output_type": "execute_result"
    }
   ],
   "source": [
    "%%time\n",
    "grid_search.fit(X_train, y_train)"
   ]
  },
  {
   "cell_type": "code",
   "execution_count": 10,
   "metadata": {},
   "outputs": [
    {
     "data": {
      "text/plain": [
       "KNeighborsClassifier(algorithm='auto', leaf_size=30, metric='minkowski',\n",
       "           metric_params=None, n_jobs=1, n_neighbors=3, p=3,\n",
       "           weights='distance')"
      ]
     },
     "execution_count": 10,
     "metadata": {},
     "output_type": "execute_result"
    }
   ],
   "source": [
    "grid_search.best_estimator_"
   ]
  },
  {
   "cell_type": "code",
   "execution_count": 11,
   "metadata": {},
   "outputs": [
    {
     "data": {
      "text/plain": [
       "0.9853862212943633"
      ]
     },
     "execution_count": 11,
     "metadata": {},
     "output_type": "execute_result"
    }
   ],
   "source": [
    "grid_search.best_score_"
   ]
  },
  {
   "cell_type": "code",
   "execution_count": 17,
   "metadata": {},
   "outputs": [
    {
     "data": {
      "text/plain": [
       "{'n_neighbors': 3, 'p': 3, 'weights': 'distance'}"
      ]
     },
     "execution_count": 17,
     "metadata": {},
     "output_type": "execute_result"
    }
   ],
   "source": [
    "grid_search.best_params_"
   ]
  },
  {
   "cell_type": "code",
   "execution_count": 18,
   "metadata": {},
   "outputs": [],
   "source": [
    "knn_clf = grid_search.best_estimator_"
   ]
  },
  {
   "cell_type": "code",
   "execution_count": 21,
   "metadata": {},
   "outputs": [
    {
     "data": {
      "text/plain": [
       "0.9833333333333333"
      ]
     },
     "execution_count": 21,
     "metadata": {},
     "output_type": "execute_result"
    }
   ],
   "source": [
    "knn_clf.score(X_test, y_test)"
   ]
  },
  {
   "cell_type": "code",
   "execution_count": 24,
   "metadata": {},
   "outputs": [],
   "source": [
    "grid_search = GridSearchCV(knn_clf, param_grid, n_jobs=-1, verbose=2) \n",
    "# 参数 n_jobs=-1 表示将此台计算机所有的核都进行运算， n_job=2表示将计算机上的两个核进行运算\n",
    "# verbose 表示输出的一些信息，值越大，表明输出的信息越详细"
   ]
  },
  {
   "cell_type": "code",
   "execution_count": 25,
   "metadata": {},
   "outputs": [
    {
     "name": "stdout",
     "output_type": "stream",
     "text": [
      "Fitting 3 folds for each of 60 candidates, totalling 180 fits\n"
     ]
    },
    {
     "name": "stderr",
     "output_type": "stream",
     "text": [
      "[Parallel(n_jobs=-1)]: Done  33 tasks      | elapsed:   21.3s\n",
      "[Parallel(n_jobs=-1)]: Done 154 tasks      | elapsed:  1.2min\n"
     ]
    },
    {
     "name": "stdout",
     "output_type": "stream",
     "text": [
      "Wall time: 1min 31s\n"
     ]
    },
    {
     "name": "stderr",
     "output_type": "stream",
     "text": [
      "[Parallel(n_jobs=-1)]: Done 180 out of 180 | elapsed:  1.5min finished\n"
     ]
    },
    {
     "data": {
      "text/plain": [
       "GridSearchCV(cv=None, error_score='raise',\n",
       "       estimator=KNeighborsClassifier(algorithm='auto', leaf_size=30, metric='minkowski',\n",
       "           metric_params=None, n_jobs=1, n_neighbors=3, p=3,\n",
       "           weights='distance'),\n",
       "       fit_params=None, iid=True, n_jobs=-1,\n",
       "       param_grid=[{'weights': ['uniform'], 'n_neighbors': [1, 2, 3, 4, 5, 6, 7, 8, 9, 10]}, {'weights': ['distance'], 'n_neighbors': [1, 2, 3, 4, 5, 6, 7, 8, 9, 10], 'p': [1, 2, 3, 4, 5]}],\n",
       "       pre_dispatch='2*n_jobs', refit=True, return_train_score='warn',\n",
       "       scoring=None, verbose=2)"
      ]
     },
     "execution_count": 25,
     "metadata": {},
     "output_type": "execute_result"
    }
   ],
   "source": [
    "%%time\n",
    "grid_search.fit(X_train, y_train)"
   ]
  },
  {
   "cell_type": "code",
   "execution_count": 27,
   "metadata": {},
   "outputs": [],
   "source": [
    "knn_clf = grid_search.best_estimator_"
   ]
  },
  {
   "cell_type": "code",
   "execution_count": 29,
   "metadata": {},
   "outputs": [
    {
     "data": {
      "text/plain": [
       "0.9833333333333333"
      ]
     },
     "execution_count": 29,
     "metadata": {},
     "output_type": "execute_result"
    }
   ],
   "source": [
    "knn_clf.score(X_test, y_test)"
   ]
  },
  {
   "cell_type": "markdown",
   "metadata": {},
   "source": [
    "## 数据归一化"
   ]
  },
  {
   "cell_type": "code",
   "execution_count": 31,
   "metadata": {},
   "outputs": [],
   "source": [
    "import numpy as np\n",
    "import matplotlib.pyplot as plt"
   ]
  },
  {
   "cell_type": "markdown",
   "metadata": {},
   "source": [
    "### 最值归一化 Normalization"
   ]
  },
  {
   "cell_type": "code",
   "execution_count": 33,
   "metadata": {},
   "outputs": [],
   "source": [
    "x = np.random.randint(0, 100, size=100)"
   ]
  },
  {
   "cell_type": "code",
   "execution_count": 34,
   "metadata": {},
   "outputs": [
    {
     "data": {
      "text/plain": [
       "array([ 8, 57, 59, 43, 31, 91, 48, 86, 83, 55, 64, 28, 84, 47, 94,  5, 80,\n",
       "       37, 10, 49, 26,  7, 27, 80, 14, 61, 17, 49, 45, 39, 46, 78,  8, 68,\n",
       "       38, 77, 17, 58, 29,  4, 44, 94, 39, 56, 88, 93, 15, 22, 30, 50, 74,\n",
       "       40, 15, 39,  2, 34,  5, 33, 47, 57, 20, 58, 55, 78, 23, 15, 21,  1,\n",
       "       41,  8, 36,  4,  9, 99, 89, 75, 40, 27, 23, 25, 29, 57, 61, 44, 50,\n",
       "       54, 64, 89, 34, 55, 33, 43, 96, 35, 72, 68, 11, 10, 25, 24])"
      ]
     },
     "execution_count": 34,
     "metadata": {},
     "output_type": "execute_result"
    }
   ],
   "source": [
    "x"
   ]
  },
  {
   "cell_type": "code",
   "execution_count": 35,
   "metadata": {},
   "outputs": [
    {
     "data": {
      "text/plain": [
       "array([0.07142857, 0.57142857, 0.59183673, 0.42857143, 0.30612245,\n",
       "       0.91836735, 0.47959184, 0.86734694, 0.83673469, 0.55102041,\n",
       "       0.64285714, 0.2755102 , 0.84693878, 0.46938776, 0.94897959,\n",
       "       0.04081633, 0.80612245, 0.36734694, 0.09183673, 0.48979592,\n",
       "       0.25510204, 0.06122449, 0.26530612, 0.80612245, 0.13265306,\n",
       "       0.6122449 , 0.16326531, 0.48979592, 0.44897959, 0.3877551 ,\n",
       "       0.45918367, 0.78571429, 0.07142857, 0.68367347, 0.37755102,\n",
       "       0.7755102 , 0.16326531, 0.58163265, 0.28571429, 0.03061224,\n",
       "       0.43877551, 0.94897959, 0.3877551 , 0.56122449, 0.8877551 ,\n",
       "       0.93877551, 0.14285714, 0.21428571, 0.29591837, 0.5       ,\n",
       "       0.74489796, 0.39795918, 0.14285714, 0.3877551 , 0.01020408,\n",
       "       0.33673469, 0.04081633, 0.32653061, 0.46938776, 0.57142857,\n",
       "       0.19387755, 0.58163265, 0.55102041, 0.78571429, 0.2244898 ,\n",
       "       0.14285714, 0.20408163, 0.        , 0.40816327, 0.07142857,\n",
       "       0.35714286, 0.03061224, 0.08163265, 1.        , 0.89795918,\n",
       "       0.75510204, 0.39795918, 0.26530612, 0.2244898 , 0.24489796,\n",
       "       0.28571429, 0.57142857, 0.6122449 , 0.43877551, 0.5       ,\n",
       "       0.54081633, 0.64285714, 0.89795918, 0.33673469, 0.55102041,\n",
       "       0.32653061, 0.42857143, 0.96938776, 0.34693878, 0.7244898 ,\n",
       "       0.68367347, 0.10204082, 0.09183673, 0.24489796, 0.23469388])"
      ]
     },
     "execution_count": 35,
     "metadata": {},
     "output_type": "execute_result"
    }
   ],
   "source": [
    "(x - np.min(x)) / (np.max(x) - np.min(x))"
   ]
  },
  {
   "cell_type": "code",
   "execution_count": 81,
   "metadata": {},
   "outputs": [],
   "source": [
    "X = np.random.randint(0, 100, size=(50, 2))"
   ]
  },
  {
   "cell_type": "code",
   "execution_count": 82,
   "metadata": {},
   "outputs": [
    {
     "data": {
      "text/plain": [
       "array([[76, 90],\n",
       "       [82, 46],\n",
       "       [89, 15],\n",
       "       [23, 31],\n",
       "       [99, 32],\n",
       "       [71, 82],\n",
       "       [11, 83],\n",
       "       [15, 11],\n",
       "       [35, 17],\n",
       "       [89, 34]])"
      ]
     },
     "execution_count": 82,
     "metadata": {},
     "output_type": "execute_result"
    }
   ],
   "source": [
    "X[:10, :]"
   ]
  },
  {
   "cell_type": "code",
   "execution_count": 83,
   "metadata": {},
   "outputs": [
    {
     "data": {
      "text/plain": [
       "array([[76., 90.],\n",
       "       [82., 46.],\n",
       "       [89., 15.],\n",
       "       [23., 31.],\n",
       "       [99., 32.],\n",
       "       [71., 82.],\n",
       "       [11., 83.],\n",
       "       [15., 11.],\n",
       "       [35., 17.],\n",
       "       [89., 34.]])"
      ]
     },
     "execution_count": 83,
     "metadata": {},
     "output_type": "execute_result"
    }
   ],
   "source": [
    "X = np.array(X, dtype=float)\n",
    "X[:10, :]"
   ]
  },
  {
   "cell_type": "code",
   "execution_count": 84,
   "metadata": {},
   "outputs": [],
   "source": [
    "X[:, 0] = (X[:, 0] - np.min(X[:, 0])) / (np.max(X[:, 0] - np.min(X[:, 0])))"
   ]
  },
  {
   "cell_type": "code",
   "execution_count": 85,
   "metadata": {},
   "outputs": [],
   "source": [
    "X[:, 1] = (X[:, 1] - np.min(X[:, 1])) / (np.max(X[:, 1] - np.min(X[:, 1])))"
   ]
  },
  {
   "cell_type": "code",
   "execution_count": 86,
   "metadata": {},
   "outputs": [
    {
     "data": {
      "text/plain": [
       "array([[0.76767677, 0.91836735],\n",
       "       [0.82828283, 0.46938776],\n",
       "       [0.8989899 , 0.15306122],\n",
       "       [0.23232323, 0.31632653],\n",
       "       [1.        , 0.32653061],\n",
       "       [0.71717172, 0.83673469],\n",
       "       [0.11111111, 0.84693878],\n",
       "       [0.15151515, 0.1122449 ],\n",
       "       [0.35353535, 0.17346939],\n",
       "       [0.8989899 , 0.34693878]])"
      ]
     },
     "execution_count": 86,
     "metadata": {},
     "output_type": "execute_result"
    }
   ],
   "source": [
    "X[:10, :]"
   ]
  },
  {
   "cell_type": "code",
   "execution_count": 87,
   "metadata": {
    "scrolled": true
   },
   "outputs": [
    {
     "data": {
      "image/png": "[encoded data removed]",
      "text/plain": [
       "<Figure size 432x288 with 1 Axes>"
      ]
     },
     "metadata": {},
     "output_type": "display_data"
    }
   ],
   "source": [
    "plt.scatter(X[:, 0], x[:, 1])\n",
    "plt.show()"
   ]
  },
  {
   "cell_type": "code",
   "execution_count": 88,
   "metadata": {},
   "outputs": [
    {
     "data": {
      "text/plain": [
       "0.478989898989899"
      ]
     },
     "execution_count": 88,
     "metadata": {},
     "output_type": "execute_result"
    }
   ],
   "source": [
    "np.mean(X[:, 0])"
   ]
  },
  {
   "cell_type": "code",
   "execution_count": 89,
   "metadata": {},
   "outputs": [
    {
     "data": {
      "text/plain": [
       "0.30187044021778253"
      ]
     },
     "execution_count": 89,
     "metadata": {},
     "output_type": "execute_result"
    }
   ],
   "source": [
    "np.std(X[:, 0])"
   ]
  },
  {
   "cell_type": "code",
   "execution_count": 90,
   "metadata": {},
   "outputs": [
    {
     "data": {
      "text/plain": [
       "0.49122448979591843"
      ]
     },
     "execution_count": 90,
     "metadata": {},
     "output_type": "execute_result"
    }
   ],
   "source": [
    "np.mean(X[:, 1])"
   ]
  },
  {
   "cell_type": "code",
   "execution_count": 91,
   "metadata": {},
   "outputs": [
    {
     "data": {
      "text/plain": [
       "0.3028396083817824"
      ]
     },
     "execution_count": 91,
     "metadata": {},
     "output_type": "execute_result"
    }
   ],
   "source": [
    "np.std(X[:, 1])"
   ]
  },
  {
   "cell_type": "markdown",
   "metadata": {},
   "source": [
    "### 均值方差归一化 Standardization"
   ]
  },
  {
   "cell_type": "code",
   "execution_count": 92,
   "metadata": {},
   "outputs": [],
   "source": [
    "X2 = np.random.randint(0, 100, size=(50, 2))"
   ]
  },
  {
   "cell_type": "code",
   "execution_count": 93,
   "metadata": {},
   "outputs": [],
   "source": [
    "X2 = np.array(X2, dtype=float)"
   ]
  },
  {
   "cell_type": "code",
   "execution_count": 94,
   "metadata": {},
   "outputs": [],
   "source": [
    "X2[:, 0] = (X2[:, 0] - np.mean(X2[:, 0])) / np.std(X2[:, 0])"
   ]
  },
  {
   "cell_type": "code",
   "execution_count": 95,
   "metadata": {},
   "outputs": [],
   "source": [
    "X2[:, 1] = (X2[:, 1] - np.mean(X2[:, 1])) / np.std(X2[:, 1])"
   ]
  },
  {
   "cell_type": "code",
   "execution_count": 97,
   "metadata": {},
   "outputs": [
    {
     "data": {
      "image/png": "[encoded data removed]",
      "text/plain": [
       "<Figure size 432x288 with 1 Axes>"
      ]
     },
     "metadata": {},
     "output_type": "display_data"
    }
   ],
   "source": [
    "plt.scatter(X2[:, 0], X2[:, 1])\n",
    "plt.show()"
   ]
  },
  {
   "cell_type": "code",
   "execution_count": 98,
   "metadata": {},
   "outputs": [
    {
     "data": {
      "text/plain": [
       "-3.552713678800501e-17"
      ]
     },
     "execution_count": 98,
     "metadata": {},
     "output_type": "execute_result"
    }
   ],
   "source": [
    "np.mean(X2[:, 0])"
   ]
  },
  {
   "cell_type": "code",
   "execution_count": 99,
   "metadata": {},
   "outputs": [
    {
     "data": {
      "text/plain": [
       "1.0"
      ]
     },
     "execution_count": 99,
     "metadata": {},
     "output_type": "execute_result"
    }
   ],
   "source": [
    "np.std(X2[:, 0])"
   ]
  },
  {
   "cell_type": "code",
   "execution_count": 100,
   "metadata": {},
   "outputs": [
    {
     "data": {
      "text/plain": [
       "1.0880185641326534e-16"
      ]
     },
     "execution_count": 100,
     "metadata": {},
     "output_type": "execute_result"
    }
   ],
   "source": [
    "np.mean(X2[:, 1])"
   ]
  },
  {
   "cell_type": "code",
   "execution_count": 102,
   "metadata": {},
   "outputs": [
    {
     "data": {
      "text/plain": [
       "0.9999999999999999"
      ]
     },
     "execution_count": 102,
     "metadata": {},
     "output_type": "execute_result"
    }
   ],
   "source": [
    "np.std(X2[:, 1])"
   ]
  },
  {
   "cell_type": "markdown",
   "metadata": {},
   "source": [
    "## 对测试数据集如何归一化？"
   ]
  },
  {
   "cell_type": "markdown",
   "metadata": {},
   "source": [
    "## Scikit-learn中的Scaler"
   ]
  },
  {
   "cell_type": "code",
   "execution_count": 1,
   "metadata": {},
   "outputs": [],
   "source": [
    "import numpy as np\n",
    "from sklearn import datasets"
   ]
  },
  {
   "cell_type": "code",
   "execution_count": 2,
   "metadata": {},
   "outputs": [],
   "source": [
    "iris = datasets.load_iris()\n",
    "X = iris.data\n",
    "y = iris.target"
   ]
  },
  {
   "cell_type": "code",
   "execution_count": 3,
   "metadata": {},
   "outputs": [
    {
     "data": {
      "text/plain": [
       "array([[5.1, 3.5, 1.4, 0.2],\n",
       "       [4.9, 3. , 1.4, 0.2],\n",
       "       [4.7, 3.2, 1.3, 0.2],\n",
       "       [4.6, 3.1, 1.5, 0.2],\n",
       "       [5. , 3.6, 1.4, 0.2],\n",
       "       [5.4, 3.9, 1.7, 0.4],\n",
       "       [4.6, 3.4, 1.4, 0.3],\n",
       "       [5. , 3.4, 1.5, 0.2],\n",
       "       [4.4, 2.9, 1.4, 0.2],\n",
       "       [4.9, 3.1, 1.5, 0.1]])"
      ]
     },
     "execution_count": 3,
     "metadata": {},
     "output_type": "execute_result"
    }
   ],
   "source": [
    "X[:10, :]"
   ]
  },
  {
   "cell_type": "code",
   "execution_count": 4,
   "metadata": {},
   "outputs": [],
   "source": [
    "from sklearn.model_selection import train_test_split\n",
    "\n",
    "X_train, X_test, y_train, y_test = train_test_split(X, y)"
   ]
  },
  {
   "cell_type": "markdown",
   "metadata": {},
   "source": [
    "## scikit-learn中的StandardScale"
   ]
  },
  {
   "cell_type": "code",
   "execution_count": 5,
   "metadata": {},
   "outputs": [],
   "source": [
    "from sklearn.preprocessing import StandardScaler"
   ]
  },
  {
   "cell_type": "code",
   "execution_count": 6,
   "metadata": {},
   "outputs": [],
   "source": [
    "standardScaler = StandardScaler()"
   ]
  },
  {
   "cell_type": "code",
   "execution_count": 7,
   "metadata": {},
   "outputs": [
    {
     "data": {
      "text/plain": [
       "StandardScaler(copy=True, with_mean=True, with_std=True)"
      ]
     },
     "execution_count": 7,
     "metadata": {},
     "output_type": "execute_result"
    }
   ],
   "source": [
    "standardScaler.fit(X_train)"
   ]
  },
  {
   "cell_type": "code",
   "execution_count": 8,
   "metadata": {},
   "outputs": [
    {
     "data": {
      "text/plain": [
       "array([5.84464286, 3.02142857, 3.8625    , 1.23392857])"
      ]
     },
     "execution_count": 8,
     "metadata": {},
     "output_type": "execute_result"
    }
   ],
   "source": [
    "standardScaler.mean_"
   ]
  },
  {
   "cell_type": "code",
   "execution_count": 9,
   "metadata": {},
   "outputs": [
    {
     "ename": "AttributeError",
     "evalue": "'StandardScaler' object has no attribute 'std_'",
     "output_type": "error",
     "traceback": [
      "\u001b[1;31m---------------------------------------------------------------------------\u001b[0m",
      "\u001b[1;31mAttributeError\u001b[0m                            Traceback (most recent call last)",
      "\u001b[1;32m<ipython-input-9-b36669f69ee3>\u001b[0m in \u001b[0;36m<module>\u001b[1;34m()\u001b[0m\n\u001b[1;32m----> 1\u001b[1;33m \u001b[0mstandardScaler\u001b[0m\u001b[1;33m.\u001b[0m\u001b[0mstd_\u001b[0m\u001b[1;33m\u001b[0m\u001b[0m\n\u001b[0m",
      "\u001b[1;31mAttributeError\u001b[0m: 'StandardScaler' object has no attribute 'std_'"
     ]
    }
   ],
   "source": [
    "standardScaler.std_"
   ]
  },
  {
   "cell_type": "code",
   "execution_count": 10,
   "metadata": {},
   "outputs": [
    {
     "data": {
      "text/plain": [
       "array([0.80576486, 0.39987243, 1.69369234, 0.72991604])"
      ]
     },
     "execution_count": 10,
     "metadata": {},
     "output_type": "execute_result"
    }
   ],
   "source": [
    "standardScaler.scale_"
   ]
  },
  {
   "cell_type": "code",
   "execution_count": 11,
   "metadata": {},
   "outputs": [
    {
     "data": {
      "text/plain": [
       "array([[-0.42772138, -1.55406706, -0.03690163, -0.1834849 ],\n",
       "       [ 1.30975821,  0.19649124,  0.61256698,  0.36452333],\n",
       "       [-0.92414412,  1.69696978, -1.39488143, -1.14249931],\n",
       "       [ 0.68922978, -0.55374803,  1.02586518,  1.32353775],\n",
       "       [ 0.44101841, -0.55374803,  0.55352438,  0.77552951],\n",
       "       [ 1.06154684, -0.05358852,  0.67160958,  0.63852745],\n",
       "       [-0.17951001, -1.05390755, -0.21402943, -0.32048696],\n",
       "       [-0.80003843,  0.94673051, -1.45392403, -1.41650343],\n",
       "       [-1.29646117, -0.05358852, -1.45392403, -1.55350549],\n",
       "       [-0.55182706,  1.69696978, -1.39488143, -1.41650343],\n",
       "       [ 1.06154684,  0.69665075,  1.08490778,  1.18653569],\n",
       "       [-0.92414412,  1.19681027, -1.45392403, -1.27950137],\n",
       "       [ 0.68922978, -0.30366828,  0.25831138,  0.09051922],\n",
       "       [ 0.5651241 , -0.80382779,  0.61256698,  0.77552951],\n",
       "       [-0.17951001,  3.44752809, -1.39488143, -1.14249931],\n",
       "       [ 1.30975821,  0.19649124,  0.73065218,  1.4605398 ],\n",
       "       [-1.17235548, -1.30398731,  0.37639658,  0.63852745],\n",
       "       [-1.0482498 , -1.80414682, -0.33211463, -0.32048696],\n",
       "       [ 1.18565252, -0.05358852,  0.96682258,  1.18653569],\n",
       "       [-1.0482498 ,  0.94673051, -1.39488143, -1.41650343],\n",
       "       [-1.17235548, -1.55406706, -0.33211463, -0.32048696],\n",
       "       [-1.29646117,  0.19649124, -1.33583883, -1.41650343],\n",
       "       [ 0.06870136, -0.05358852,  0.73065218,  0.77552951],\n",
       "       [-0.05540432, -0.80382779,  0.02214098, -0.04648284],\n",
       "       [-1.0482498 ,  1.19681027, -1.51296663, -1.27950137],\n",
       "       [-1.42056685,  0.446571  , -1.33583883, -1.41650343],\n",
       "       [ 1.06154684,  0.19649124,  0.31735398,  0.22752128],\n",
       "       [ 0.31691273, -0.05358852,  0.61256698,  0.77552951],\n",
       "       [ 2.30260368, -0.05358852,  1.32107818,  1.4605398 ],\n",
       "       [-1.0482498 ,  0.446571  , -1.57200923, -1.41650343],\n",
       "       [-0.17951001, -1.30398731,  0.67160958,  1.04953363],\n",
       "       [ 1.18565252,  0.446571  ,  1.20299298,  1.4605398 ],\n",
       "       [ 0.5651241 , -0.30366828,  1.02586518,  0.77552951],\n",
       "       [ 0.68922978,  0.446571  ,  0.37639658,  0.36452333],\n",
       "       [-0.42772138,  1.19681027, -1.51296663, -1.41650343],\n",
       "       [ 1.06154684,  0.19649124,  0.49448178,  0.36452333],\n",
       "       [ 1.80618095, -0.30366828,  1.43916338,  0.77552951],\n",
       "       [ 0.81333547, -0.05358852,  1.14395038,  1.32353775],\n",
       "       [ 0.5651241 , -1.30398731,  0.61256698,  0.36452333],\n",
       "       [-0.17951001, -0.55374803,  0.37639658,  0.09051922],\n",
       "       [-0.42772138, -1.80414682,  0.08118358,  0.09051922],\n",
       "       [ 0.31691273, -0.30366828,  0.49448178,  0.22752128],\n",
       "       [ 2.30260368,  1.94704954,  1.67533378,  1.32353775],\n",
       "       [ 1.06154684,  0.19649124,  1.02586518,  1.59754186],\n",
       "       [-1.17235548,  0.19649124, -1.39488143, -1.55350549],\n",
       "       [-0.42772138, -1.30398731,  0.08118358,  0.09051922],\n",
       "       [-1.54467254,  0.446571  , -1.45392403, -1.41650343],\n",
       "       [-1.29646117,  0.94673051, -1.15871103, -1.41650343],\n",
       "       [ 0.44101841, -2.05422658,  0.37639658,  0.36452333],\n",
       "       [ 1.55796958, -0.05358852,  1.20299298,  1.18653569],\n",
       "       [ 0.31691273, -0.55374803,  0.08118358,  0.09051922],\n",
       "       [ 0.81333547, -0.55374803,  0.43543918,  0.36452333],\n",
       "       [-0.55182706,  0.94673051, -1.39488143, -1.14249931],\n",
       "       [-1.17235548,  0.19649124, -1.39488143, -1.55350549],\n",
       "       [ 0.5651241 , -0.55374803,  0.73065218,  0.36452333],\n",
       "       [-0.92414412,  0.94673051, -1.39488143, -1.41650343],\n",
       "       [ 0.31691273, -0.05358852,  0.43543918,  0.22752128],\n",
       "       [ 0.19280705, -0.30366828,  0.37639658,  0.36452333],\n",
       "       [ 0.81333547, -0.05358852,  0.96682258,  0.77552951],\n",
       "       [-0.42772138, -1.55406706, -0.09594423, -0.32048696],\n",
       "       [ 0.93744115, -0.30366828,  0.43543918,  0.09051922],\n",
       "       [ 0.93744115, -0.05358852,  0.31735398,  0.22752128],\n",
       "       [ 0.44101841,  0.94673051,  0.90777998,  1.4605398 ],\n",
       "       [-0.30361569, -1.30398731,  0.02214098, -0.1834849 ],\n",
       "       [ 0.81333547,  0.446571  ,  0.73065218,  1.04953363],\n",
       "       [ 0.06870136,  0.446571  ,  0.55352438,  0.77552951],\n",
       "       [-0.80003843, -0.80382779,  0.02214098,  0.22752128],\n",
       "       [ 0.19280705, -0.05358852,  0.55352438,  0.77552951],\n",
       "       [ 0.19280705, -2.05422658,  0.67160958,  0.36452333],\n",
       "       [-0.42772138,  2.94736857, -1.45392403, -1.41650343],\n",
       "       [ 0.19280705,  0.94673051,  0.37639658,  0.50152539],\n",
       "       [ 1.30975821,  0.19649124,  0.90777998,  1.18653569],\n",
       "       [-0.17951001, -0.55374803,  0.14022618,  0.09051922],\n",
       "       [-0.17951001, -0.05358852,  0.19926878, -0.04648284],\n",
       "       [-1.91698959, -0.05358852, -1.63105183, -1.55350549],\n",
       "       [-0.05540432, -0.80382779,  0.73065218,  0.91253157],\n",
       "       [-1.0482498 ,  1.19681027, -1.33583883, -0.86849519],\n",
       "       [-1.0482498 , -2.55438609, -0.21402943, -0.32048696],\n",
       "       [-1.54467254,  0.94673051, -1.45392403, -1.27950137],\n",
       "       [-1.79288391,  0.446571  , -1.51296663, -1.41650343],\n",
       "       [-1.79288391, -0.05358852, -1.51296663, -1.41650343],\n",
       "       [-0.55182706,  0.94673051, -1.27679623, -1.41650343],\n",
       "       [ 1.06154684, -1.30398731,  1.14395038,  0.77552951],\n",
       "       [ 0.68922978, -0.80382779,  0.84873738,  0.91253157],\n",
       "       [-0.17951001, -0.30366828,  0.19926878,  0.09051922],\n",
       "       [-0.05540432, -0.80382779,  0.73065218,  0.91253157],\n",
       "       [ 0.31691273, -1.05390755,  1.02586518,  0.22752128],\n",
       "       [ 1.68207526, -0.05358852,  1.14395038,  0.50152539],\n",
       "       [ 1.68207526,  0.446571  ,  1.26203558,  0.77552951],\n",
       "       [ 0.19280705, -0.80382779,  0.73065218,  0.50152539],\n",
       "       [-1.0482498 ,  0.69665075, -1.45392403, -1.41650343],\n",
       "       [-1.0482498 , -0.05358852, -1.33583883, -1.41650343],\n",
       "       [-0.30361569, -0.05358852,  0.37639658,  0.36452333],\n",
       "       [-1.42056685,  0.446571  , -1.51296663, -1.41650343],\n",
       "       [ 0.68922978,  0.446571  ,  0.84873738,  1.4605398 ],\n",
       "       [ 0.06870136, -0.05358852,  0.19926878,  0.36452333],\n",
       "       [ 0.5651241 ,  0.69665075,  1.26203558,  1.73454392],\n",
       "       [ 2.55081505,  1.94704954,  1.49820598,  1.04953363],\n",
       "       [-1.29646117,  0.94673051, -1.33583883, -1.41650343],\n",
       "       [-0.80003843,  1.19681027, -1.39488143, -1.41650343],\n",
       "       [-0.30361569, -0.80382779,  0.19926878,  0.09051922],\n",
       "       [-0.55182706, -0.05358852,  0.37639658,  0.36452333],\n",
       "       [-1.54467254,  1.44689003, -1.69009443, -1.41650343],\n",
       "       [ 2.30260368, -0.55374803,  1.67533378,  1.04953363],\n",
       "       [ 0.68922978, -0.55374803,  1.02586518,  1.18653569],\n",
       "       [ 0.5651241 ,  0.69665075,  0.49448178,  0.50152539],\n",
       "       [ 0.31691273, -0.55374803,  0.49448178, -0.04648284],\n",
       "       [-0.05540432, -1.05390755,  0.08118358, -0.04648284],\n",
       "       [-1.79288391, -0.30366828, -1.45392403, -1.41650343],\n",
       "       [-0.05540432, -0.55374803,  0.73065218,  1.59754186],\n",
       "       [-0.30361569, -0.05358852,  0.14022618,  0.09051922],\n",
       "       [-0.17951001,  1.94704954, -1.27679623, -1.27950137]])"
      ]
     },
     "execution_count": 11,
     "metadata": {},
     "output_type": "execute_result"
    }
   ],
   "source": [
    "standardScaler.transform(X_train)"
   ]
  },
  {
   "cell_type": "code",
   "execution_count": 12,
   "metadata": {},
   "outputs": [
    {
     "data": {
      "text/plain": [
       "array([[5.5, 2.4, 3.8, 1.1],\n",
       "       [6.9, 3.1, 4.9, 1.5],\n",
       "       [5.1, 3.7, 1.5, 0.4],\n",
       "       [6.4, 2.8, 5.6, 2.2],\n",
       "       [6.2, 2.8, 4.8, 1.8],\n",
       "       [6.7, 3. , 5. , 1.7],\n",
       "       [5.7, 2.6, 3.5, 1. ],\n",
       "       [5.2, 3.4, 1.4, 0.2],\n",
       "       [4.8, 3. , 1.4, 0.1],\n",
       "       [5.4, 3.7, 1.5, 0.2],\n",
       "       [6.7, 3.3, 5.7, 2.1],\n",
       "       [5.1, 3.5, 1.4, 0.3],\n",
       "       [6.4, 2.9, 4.3, 1.3],\n",
       "       [6.3, 2.7, 4.9, 1.8],\n",
       "       [5.7, 4.4, 1.5, 0.4],\n",
       "       [6.9, 3.1, 5.1, 2.3],\n",
       "       [4.9, 2.5, 4.5, 1.7],\n",
       "       [5. , 2.3, 3.3, 1. ],\n",
       "       [6.8, 3. , 5.5, 2.1],\n",
       "       [5. , 3.4, 1.5, 0.2],\n",
       "       [4.9, 2.4, 3.3, 1. ],\n",
       "       [4.8, 3.1, 1.6, 0.2],\n",
       "       [5.9, 3. , 5.1, 1.8],\n",
       "       [5.8, 2.7, 3.9, 1.2],\n",
       "       [5. , 3.5, 1.3, 0.3],\n",
       "       [4.7, 3.2, 1.6, 0.2],\n",
       "       [6.7, 3.1, 4.4, 1.4],\n",
       "       [6.1, 3. , 4.9, 1.8],\n",
       "       [7.7, 3. , 6.1, 2.3],\n",
       "       [5. , 3.2, 1.2, 0.2],\n",
       "       [5.7, 2.5, 5. , 2. ],\n",
       "       [6.8, 3.2, 5.9, 2.3],\n",
       "       [6.3, 2.9, 5.6, 1.8],\n",
       "       [6.4, 3.2, 4.5, 1.5],\n",
       "       [5.5, 3.5, 1.3, 0.2],\n",
       "       [6.7, 3.1, 4.7, 1.5],\n",
       "       [7.3, 2.9, 6.3, 1.8],\n",
       "       [6.5, 3. , 5.8, 2.2],\n",
       "       [6.3, 2.5, 4.9, 1.5],\n",
       "       [5.7, 2.8, 4.5, 1.3],\n",
       "       [5.5, 2.3, 4. , 1.3],\n",
       "       [6.1, 2.9, 4.7, 1.4],\n",
       "       [7.7, 3.8, 6.7, 2.2],\n",
       "       [6.7, 3.1, 5.6, 2.4],\n",
       "       [4.9, 3.1, 1.5, 0.1],\n",
       "       [5.5, 2.5, 4. , 1.3],\n",
       "       [4.6, 3.2, 1.4, 0.2],\n",
       "       [4.8, 3.4, 1.9, 0.2],\n",
       "       [6.2, 2.2, 4.5, 1.5],\n",
       "       [7.1, 3. , 5.9, 2.1],\n",
       "       [6.1, 2.8, 4. , 1.3],\n",
       "       [6.5, 2.8, 4.6, 1.5],\n",
       "       [5.4, 3.4, 1.5, 0.4],\n",
       "       [4.9, 3.1, 1.5, 0.1],\n",
       "       [6.3, 2.8, 5.1, 1.5],\n",
       "       [5.1, 3.4, 1.5, 0.2],\n",
       "       [6.1, 3. , 4.6, 1.4],\n",
       "       [6. , 2.9, 4.5, 1.5],\n",
       "       [6.5, 3. , 5.5, 1.8],\n",
       "       [5.5, 2.4, 3.7, 1. ],\n",
       "       [6.6, 2.9, 4.6, 1.3],\n",
       "       [6.6, 3. , 4.4, 1.4],\n",
       "       [6.2, 3.4, 5.4, 2.3],\n",
       "       [5.6, 2.5, 3.9, 1.1],\n",
       "       [6.5, 3.2, 5.1, 2. ],\n",
       "       [5.9, 3.2, 4.8, 1.8],\n",
       "       [5.2, 2.7, 3.9, 1.4],\n",
       "       [6. , 3. , 4.8, 1.8],\n",
       "       [6. , 2.2, 5. , 1.5],\n",
       "       [5.5, 4.2, 1.4, 0.2],\n",
       "       [6. , 3.4, 4.5, 1.6],\n",
       "       [6.9, 3.1, 5.4, 2.1],\n",
       "       [5.7, 2.8, 4.1, 1.3],\n",
       "       [5.7, 3. , 4.2, 1.2],\n",
       "       [4.3, 3. , 1.1, 0.1],\n",
       "       [5.8, 2.7, 5.1, 1.9],\n",
       "       [5. , 3.5, 1.6, 0.6],\n",
       "       [5. , 2. , 3.5, 1. ],\n",
       "       [4.6, 3.4, 1.4, 0.3],\n",
       "       [4.4, 3.2, 1.3, 0.2],\n",
       "       [4.4, 3. , 1.3, 0.2],\n",
       "       [5.4, 3.4, 1.7, 0.2],\n",
       "       [6.7, 2.5, 5.8, 1.8],\n",
       "       [6.4, 2.7, 5.3, 1.9],\n",
       "       [5.7, 2.9, 4.2, 1.3],\n",
       "       [5.8, 2.7, 5.1, 1.9],\n",
       "       [6.1, 2.6, 5.6, 1.4],\n",
       "       [7.2, 3. , 5.8, 1.6],\n",
       "       [7.2, 3.2, 6. , 1.8],\n",
       "       [6. , 2.7, 5.1, 1.6],\n",
       "       [5. , 3.3, 1.4, 0.2],\n",
       "       [5. , 3. , 1.6, 0.2],\n",
       "       [5.6, 3. , 4.5, 1.5],\n",
       "       [4.7, 3.2, 1.3, 0.2],\n",
       "       [6.4, 3.2, 5.3, 2.3],\n",
       "       [5.9, 3. , 4.2, 1.5],\n",
       "       [6.3, 3.3, 6. , 2.5],\n",
       "       [7.9, 3.8, 6.4, 2. ],\n",
       "       [4.8, 3.4, 1.6, 0.2],\n",
       "       [5.2, 3.5, 1.5, 0.2],\n",
       "       [5.6, 2.7, 4.2, 1.3],\n",
       "       [5.4, 3. , 4.5, 1.5],\n",
       "       [4.6, 3.6, 1. , 0.2],\n",
       "       [7.7, 2.8, 6.7, 2. ],\n",
       "       [6.4, 2.8, 5.6, 2.1],\n",
       "       [6.3, 3.3, 4.7, 1.6],\n",
       "       [6.1, 2.8, 4.7, 1.2],\n",
       "       [5.8, 2.6, 4. , 1.2],\n",
       "       [4.4, 2.9, 1.4, 0.2],\n",
       "       [5.8, 2.8, 5.1, 2.4],\n",
       "       [5.6, 3. , 4.1, 1.3],\n",
       "       [5.7, 3.8, 1.7, 0.3]])"
      ]
     },
     "execution_count": 12,
     "metadata": {},
     "output_type": "execute_result"
    }
   ],
   "source": [
    "X_train"
   ]
  },
  {
   "cell_type": "code",
   "execution_count": 13,
   "metadata": {},
   "outputs": [
    {
     "data": {
      "text/plain": [
       "array([[-0.42772138, -1.55406706, -0.03690163, -0.1834849 ],\n",
       "       [ 1.30975821,  0.19649124,  0.61256698,  0.36452333],\n",
       "       [-0.92414412,  1.69696978, -1.39488143, -1.14249931],\n",
       "       [ 0.68922978, -0.55374803,  1.02586518,  1.32353775],\n",
       "       [ 0.44101841, -0.55374803,  0.55352438,  0.77552951],\n",
       "       [ 1.06154684, -0.05358852,  0.67160958,  0.63852745],\n",
       "       [-0.17951001, -1.05390755, -0.21402943, -0.32048696],\n",
       "       [-0.80003843,  0.94673051, -1.45392403, -1.41650343],\n",
       "       [-1.29646117, -0.05358852, -1.45392403, -1.55350549],\n",
       "       [-0.55182706,  1.69696978, -1.39488143, -1.41650343],\n",
       "       [ 1.06154684,  0.69665075,  1.08490778,  1.18653569],\n",
       "       [-0.92414412,  1.19681027, -1.45392403, -1.27950137],\n",
       "       [ 0.68922978, -0.30366828,  0.25831138,  0.09051922],\n",
       "       [ 0.5651241 , -0.80382779,  0.61256698,  0.77552951],\n",
       "       [-0.17951001,  3.44752809, -1.39488143, -1.14249931],\n",
       "       [ 1.30975821,  0.19649124,  0.73065218,  1.4605398 ],\n",
       "       [-1.17235548, -1.30398731,  0.37639658,  0.63852745],\n",
       "       [-1.0482498 , -1.80414682, -0.33211463, -0.32048696],\n",
       "       [ 1.18565252, -0.05358852,  0.96682258,  1.18653569],\n",
       "       [-1.0482498 ,  0.94673051, -1.39488143, -1.41650343],\n",
       "       [-1.17235548, -1.55406706, -0.33211463, -0.32048696],\n",
       "       [-1.29646117,  0.19649124, -1.33583883, -1.41650343],\n",
       "       [ 0.06870136, -0.05358852,  0.73065218,  0.77552951],\n",
       "       [-0.05540432, -0.80382779,  0.02214098, -0.04648284],\n",
       "       [-1.0482498 ,  1.19681027, -1.51296663, -1.27950137],\n",
       "       [-1.42056685,  0.446571  , -1.33583883, -1.41650343],\n",
       "       [ 1.06154684,  0.19649124,  0.31735398,  0.22752128],\n",
       "       [ 0.31691273, -0.05358852,  0.61256698,  0.77552951],\n",
       "       [ 2.30260368, -0.05358852,  1.32107818,  1.4605398 ],\n",
       "       [-1.0482498 ,  0.446571  , -1.57200923, -1.41650343],\n",
       "       [-0.17951001, -1.30398731,  0.67160958,  1.04953363],\n",
       "       [ 1.18565252,  0.446571  ,  1.20299298,  1.4605398 ],\n",
       "       [ 0.5651241 , -0.30366828,  1.02586518,  0.77552951],\n",
       "       [ 0.68922978,  0.446571  ,  0.37639658,  0.36452333],\n",
       "       [-0.42772138,  1.19681027, -1.51296663, -1.41650343],\n",
       "       [ 1.06154684,  0.19649124,  0.49448178,  0.36452333],\n",
       "       [ 1.80618095, -0.30366828,  1.43916338,  0.77552951],\n",
       "       [ 0.81333547, -0.05358852,  1.14395038,  1.32353775],\n",
       "       [ 0.5651241 , -1.30398731,  0.61256698,  0.36452333],\n",
       "       [-0.17951001, -0.55374803,  0.37639658,  0.09051922],\n",
       "       [-0.42772138, -1.80414682,  0.08118358,  0.09051922],\n",
       "       [ 0.31691273, -0.30366828,  0.49448178,  0.22752128],\n",
       "       [ 2.30260368,  1.94704954,  1.67533378,  1.32353775],\n",
       "       [ 1.06154684,  0.19649124,  1.02586518,  1.59754186],\n",
       "       [-1.17235548,  0.19649124, -1.39488143, -1.55350549],\n",
       "       [-0.42772138, -1.30398731,  0.08118358,  0.09051922],\n",
       "       [-1.54467254,  0.446571  , -1.45392403, -1.41650343],\n",
       "       [-1.29646117,  0.94673051, -1.15871103, -1.41650343],\n",
       "       [ 0.44101841, -2.05422658,  0.37639658,  0.36452333],\n",
       "       [ 1.55796958, -0.05358852,  1.20299298,  1.18653569],\n",
       "       [ 0.31691273, -0.55374803,  0.08118358,  0.09051922],\n",
       "       [ 0.81333547, -0.55374803,  0.43543918,  0.36452333],\n",
       "       [-0.55182706,  0.94673051, -1.39488143, -1.14249931],\n",
       "       [-1.17235548,  0.19649124, -1.39488143, -1.55350549],\n",
       "       [ 0.5651241 , -0.55374803,  0.73065218,  0.36452333],\n",
       "       [-0.92414412,  0.94673051, -1.39488143, -1.41650343],\n",
       "       [ 0.31691273, -0.05358852,  0.43543918,  0.22752128],\n",
       "       [ 0.19280705, -0.30366828,  0.37639658,  0.36452333],\n",
       "       [ 0.81333547, -0.05358852,  0.96682258,  0.77552951],\n",
       "       [-0.42772138, -1.55406706, -0.09594423, -0.32048696],\n",
       "       [ 0.93744115, -0.30366828,  0.43543918,  0.09051922],\n",
       "       [ 0.93744115, -0.05358852,  0.31735398,  0.22752128],\n",
       "       [ 0.44101841,  0.94673051,  0.90777998,  1.4605398 ],\n",
       "       [-0.30361569, -1.30398731,  0.02214098, -0.1834849 ],\n",
       "       [ 0.81333547,  0.446571  ,  0.73065218,  1.04953363],\n",
       "       [ 0.06870136,  0.446571  ,  0.55352438,  0.77552951],\n",
       "       [-0.80003843, -0.80382779,  0.02214098,  0.22752128],\n",
       "       [ 0.19280705, -0.05358852,  0.55352438,  0.77552951],\n",
       "       [ 0.19280705, -2.05422658,  0.67160958,  0.36452333],\n",
       "       [-0.42772138,  2.94736857, -1.45392403, -1.41650343],\n",
       "       [ 0.19280705,  0.94673051,  0.37639658,  0.50152539],\n",
       "       [ 1.30975821,  0.19649124,  0.90777998,  1.18653569],\n",
       "       [-0.17951001, -0.55374803,  0.14022618,  0.09051922],\n",
       "       [-0.17951001, -0.05358852,  0.19926878, -0.04648284],\n",
       "       [-1.91698959, -0.05358852, -1.63105183, -1.55350549],\n",
       "       [-0.05540432, -0.80382779,  0.73065218,  0.91253157],\n",
       "       [-1.0482498 ,  1.19681027, -1.33583883, -0.86849519],\n",
       "       [-1.0482498 , -2.55438609, -0.21402943, -0.32048696],\n",
       "       [-1.54467254,  0.94673051, -1.45392403, -1.27950137],\n",
       "       [-1.79288391,  0.446571  , -1.51296663, -1.41650343],\n",
       "       [-1.79288391, -0.05358852, -1.51296663, -1.41650343],\n",
       "       [-0.55182706,  0.94673051, -1.27679623, -1.41650343],\n",
       "       [ 1.06154684, -1.30398731,  1.14395038,  0.77552951],\n",
       "       [ 0.68922978, -0.80382779,  0.84873738,  0.91253157],\n",
       "       [-0.17951001, -0.30366828,  0.19926878,  0.09051922],\n",
       "       [-0.05540432, -0.80382779,  0.73065218,  0.91253157],\n",
       "       [ 0.31691273, -1.05390755,  1.02586518,  0.22752128],\n",
       "       [ 1.68207526, -0.05358852,  1.14395038,  0.50152539],\n",
       "       [ 1.68207526,  0.446571  ,  1.26203558,  0.77552951],\n",
       "       [ 0.19280705, -0.80382779,  0.73065218,  0.50152539],\n",
       "       [-1.0482498 ,  0.69665075, -1.45392403, -1.41650343],\n",
       "       [-1.0482498 , -0.05358852, -1.33583883, -1.41650343],\n",
       "       [-0.30361569, -0.05358852,  0.37639658,  0.36452333],\n",
       "       [-1.42056685,  0.446571  , -1.51296663, -1.41650343],\n",
       "       [ 0.68922978,  0.446571  ,  0.84873738,  1.4605398 ],\n",
       "       [ 0.06870136, -0.05358852,  0.19926878,  0.36452333],\n",
       "       [ 0.5651241 ,  0.69665075,  1.26203558,  1.73454392],\n",
       "       [ 2.55081505,  1.94704954,  1.49820598,  1.04953363],\n",
       "       [-1.29646117,  0.94673051, -1.33583883, -1.41650343],\n",
       "       [-0.80003843,  1.19681027, -1.39488143, -1.41650343],\n",
       "       [-0.30361569, -0.80382779,  0.19926878,  0.09051922],\n",
       "       [-0.55182706, -0.05358852,  0.37639658,  0.36452333],\n",
       "       [-1.54467254,  1.44689003, -1.69009443, -1.41650343],\n",
       "       [ 2.30260368, -0.55374803,  1.67533378,  1.04953363],\n",
       "       [ 0.68922978, -0.55374803,  1.02586518,  1.18653569],\n",
       "       [ 0.5651241 ,  0.69665075,  0.49448178,  0.50152539],\n",
       "       [ 0.31691273, -0.55374803,  0.49448178, -0.04648284],\n",
       "       [-0.05540432, -1.05390755,  0.08118358, -0.04648284],\n",
       "       [-1.79288391, -0.30366828, -1.45392403, -1.41650343],\n",
       "       [-0.05540432, -0.55374803,  0.73065218,  1.59754186],\n",
       "       [-0.30361569, -0.05358852,  0.14022618,  0.09051922],\n",
       "       [-0.17951001,  1.94704954, -1.27679623, -1.27950137]])"
      ]
     },
     "execution_count": 13,
     "metadata": {},
     "output_type": "execute_result"
    }
   ],
   "source": [
    "X_train = standardScaler.transform(X_train)\n",
    "X_train"
   ]
  },
  {
   "cell_type": "code",
   "execution_count": 24,
   "metadata": {},
   "outputs": [],
   "source": [
    "X_test_standard = standardScaler.transform(X_test)"
   ]
  },
  {
   "cell_type": "code",
   "execution_count": 16,
   "metadata": {},
   "outputs": [],
   "source": [
    "from sklearn.neighbors import KNeighborsClassifier"
   ]
  },
  {
   "cell_type": "code",
   "execution_count": 17,
   "metadata": {},
   "outputs": [],
   "source": [
    "knn_clf = KNeighborsClassifier(n_neighbors=3)"
   ]
  },
  {
   "cell_type": "code",
   "execution_count": 18,
   "metadata": {},
   "outputs": [
    {
     "data": {
      "text/plain": [
       "KNeighborsClassifier(algorithm='auto', leaf_size=30, metric='minkowski',\n",
       "           metric_params=None, n_jobs=1, n_neighbors=3, p=2,\n",
       "           weights='uniform')"
      ]
     },
     "execution_count": 18,
     "metadata": {},
     "output_type": "execute_result"
    }
   ],
   "source": [
    "knn_clf.fit(X_train, y_train)"
   ]
  },
  {
   "cell_type": "code",
   "execution_count": 21,
   "metadata": {},
   "outputs": [
    {
     "data": {
      "text/plain": [
       "0.9736842105263158"
      ]
     },
     "execution_count": 21,
     "metadata": {},
     "output_type": "execute_result"
    }
   ],
   "source": [
    "knn_clf.score(X_test_standard, y_test)"
   ]
  },
  {
   "cell_type": "code",
   "execution_count": 23,
   "metadata": {},
   "outputs": [
    {
     "data": {
      "text/plain": [
       "0.3157894736842105"
      ]
     },
     "execution_count": 23,
     "metadata": {},
     "output_type": "execute_result"
    }
   ],
   "source": [
    "knn_clf.score(X_test, y_test)\n",
    "# 说明test数据一定要归一化的重要性"
   ]
  },
  {
   "cell_type": "code",
   "execution_count": null,
   "metadata": {},
   "outputs": [],
   "source": []
  }
 ],
 "metadata": {
  "kernelspec": {
   "display_name": "Python 3",
   "language": "python",
   "name": "python3"
  },
  "language_info": {
   "codemirror_mode": {
    "name": "ipython",
    "version": 3
   },
   "file_extension": ".py",
   "mimetype": "text/x-python",
   "name": "python",
   "nbconvert_exporter": "python",
   "pygments_lexer": "ipython3",
   "version": "3.6.4"
  }
 },
 "nbformat": 4,
 "nbformat_minor": 2
}
